{
 "cells": [
  {
   "cell_type": "markdown",
   "metadata": {},
   "source": [
    "## Demo Pandas"
   ]
  },
  {
   "cell_type": "code",
   "execution_count": 33,
   "metadata": {},
   "outputs": [],
   "source": [
    "import math"
   ]
  },
  {
   "cell_type": "code",
   "execution_count": 34,
   "metadata": {},
   "outputs": [
    {
     "name": "stdout",
     "output_type": "stream",
     "text": [
      "4.0\n"
     ]
    }
   ],
   "source": [
    "print(math.sqrt(16))"
   ]
  },
  {
   "cell_type": "markdown",
   "metadata": {},
   "source": [
    "#### Pandas\n",
    "\n",
    "Pandas est le module de réfernce dans l'analyse de données.\n",
    "Il contient 2 types de données:\n",
    "series: colonne d'une tablea -> un tableau à 1 dimension\n",
    "dataframe: table contenant des lignes et des colonnes\n",
    "Et contient toutes les fonctions permettant de manipuler ces 2 types de données"
   ]
  },
  {
   "cell_type": "code",
   "execution_count": 35,
   "metadata": {},
   "outputs": [],
   "source": [
    "import pandas as pd"
   ]
  },
  {
   "cell_type": "code",
   "execution_count": 36,
   "metadata": {},
   "outputs": [
    {
     "data": {
      "text/html": [
       "<div>\n",
       "<style scoped>\n",
       "    .dataframe tbody tr th:only-of-type {\n",
       "        vertical-align: middle;\n",
       "    }\n",
       "\n",
       "    .dataframe tbody tr th {\n",
       "        vertical-align: top;\n",
       "    }\n",
       "\n",
       "    .dataframe thead th {\n",
       "        text-align: right;\n",
       "    }\n",
       "</style>\n",
       "<table border=\"1\" class=\"dataframe\">\n",
       "  <thead>\n",
       "    <tr style=\"text-align: right;\">\n",
       "      <th></th>\n",
       "      <th>id</th>\n",
       "      <th>date</th>\n",
       "      <th>first_name</th>\n",
       "      <th>last_name</th>\n",
       "      <th>email</th>\n",
       "      <th>gender</th>\n",
       "      <th>ip_address</th>\n",
       "      <th>country</th>\n",
       "      <th>price_paid</th>\n",
       "      <th>tax</th>\n",
       "    </tr>\n",
       "  </thead>\n",
       "  <tbody>\n",
       "    <tr>\n",
       "      <th>0</th>\n",
       "      <td>1</td>\n",
       "      <td>03/28/2021</td>\n",
       "      <td>Marylin</td>\n",
       "      <td>Alders</td>\n",
       "      <td>malders0@shop-pro.jp</td>\n",
       "      <td>Male</td>\n",
       "      <td>160.119.8.119</td>\n",
       "      <td>Canada</td>\n",
       "      <td>$5.36</td>\n",
       "      <td>NaN</td>\n",
       "    </tr>\n",
       "    <tr>\n",
       "      <th>1</th>\n",
       "      <td>2</td>\n",
       "      <td>03/19/2021</td>\n",
       "      <td>Hinda</td>\n",
       "      <td>Harridge</td>\n",
       "      <td>hharridge1@gnu.org</td>\n",
       "      <td>Female</td>\n",
       "      <td>210.51.172.132</td>\n",
       "      <td>Canada</td>\n",
       "      <td>$8.32</td>\n",
       "      <td>NaN</td>\n",
       "    </tr>\n",
       "    <tr>\n",
       "      <th>2</th>\n",
       "      <td>3</td>\n",
       "      <td>03/17/2021</td>\n",
       "      <td>Erl</td>\n",
       "      <td>Kilminster</td>\n",
       "      <td>ekilminster2@etsy.com</td>\n",
       "      <td>Male</td>\n",
       "      <td>213.8.101.145</td>\n",
       "      <td>United States</td>\n",
       "      <td>$3.73</td>\n",
       "      <td>20.0</td>\n",
       "    </tr>\n",
       "    <tr>\n",
       "      <th>3</th>\n",
       "      <td>4</td>\n",
       "      <td>03/19/2021</td>\n",
       "      <td>Grata</td>\n",
       "      <td>Brantl</td>\n",
       "      <td>gbrantl3@umn.edu</td>\n",
       "      <td>Female</td>\n",
       "      <td>5.140.237.101</td>\n",
       "      <td>United States</td>\n",
       "      <td>$3.70</td>\n",
       "      <td>20.0</td>\n",
       "    </tr>\n",
       "    <tr>\n",
       "      <th>4</th>\n",
       "      <td>5</td>\n",
       "      <td>03/24/2021</td>\n",
       "      <td>Kanya</td>\n",
       "      <td>Beasant</td>\n",
       "      <td>kbeasant4@jigsy.com</td>\n",
       "      <td>Male</td>\n",
       "      <td>106.252.162.233</td>\n",
       "      <td>Morocco</td>\n",
       "      <td>$9.24</td>\n",
       "      <td>20.0</td>\n",
       "    </tr>\n",
       "    <tr>\n",
       "      <th>...</th>\n",
       "      <td>...</td>\n",
       "      <td>...</td>\n",
       "      <td>...</td>\n",
       "      <td>...</td>\n",
       "      <td>...</td>\n",
       "      <td>...</td>\n",
       "      <td>...</td>\n",
       "      <td>...</td>\n",
       "      <td>...</td>\n",
       "      <td>...</td>\n",
       "    </tr>\n",
       "    <tr>\n",
       "      <th>995</th>\n",
       "      <td>996</td>\n",
       "      <td>03/24/2021</td>\n",
       "      <td>Duff</td>\n",
       "      <td>Errigo</td>\n",
       "      <td>derrigorn@elpais.com</td>\n",
       "      <td>Female</td>\n",
       "      <td>193.84.247.144</td>\n",
       "      <td>France</td>\n",
       "      <td>$3.63</td>\n",
       "      <td>NaN</td>\n",
       "    </tr>\n",
       "    <tr>\n",
       "      <th>996</th>\n",
       "      <td>997</td>\n",
       "      <td>03/17/2021</td>\n",
       "      <td>Ame</td>\n",
       "      <td>Rastall</td>\n",
       "      <td>arastallro@toplist.cz</td>\n",
       "      <td>Female</td>\n",
       "      <td>188.219.12.109</td>\n",
       "      <td>NaN</td>\n",
       "      <td>$4.59</td>\n",
       "      <td>20.0</td>\n",
       "    </tr>\n",
       "    <tr>\n",
       "      <th>997</th>\n",
       "      <td>998</td>\n",
       "      <td>03/13/2021</td>\n",
       "      <td>Betty</td>\n",
       "      <td>Stickels</td>\n",
       "      <td>bstickelsrp@cloudflare.com</td>\n",
       "      <td>Male</td>\n",
       "      <td>199.80.60.87</td>\n",
       "      <td>United States</td>\n",
       "      <td>$7.54</td>\n",
       "      <td>20.0</td>\n",
       "    </tr>\n",
       "    <tr>\n",
       "      <th>998</th>\n",
       "      <td>999</td>\n",
       "      <td>03/17/2021</td>\n",
       "      <td>Paquito</td>\n",
       "      <td>Tesoe</td>\n",
       "      <td>ptesoerq@rakuten.co.jp</td>\n",
       "      <td>Male</td>\n",
       "      <td>0.183.63.11</td>\n",
       "      <td>United States</td>\n",
       "      <td>$5.81</td>\n",
       "      <td>NaN</td>\n",
       "    </tr>\n",
       "    <tr>\n",
       "      <th>999</th>\n",
       "      <td>1000</td>\n",
       "      <td>03/23/2021</td>\n",
       "      <td>Rochelle</td>\n",
       "      <td>Pringuer</td>\n",
       "      <td>rpringuerrr@house.gov</td>\n",
       "      <td>NaN</td>\n",
       "      <td>170.193.249.83</td>\n",
       "      <td>Canada</td>\n",
       "      <td>$8.01</td>\n",
       "      <td>20.0</td>\n",
       "    </tr>\n",
       "  </tbody>\n",
       "</table>\n",
       "<p>1000 rows × 10 columns</p>\n",
       "</div>"
      ],
      "text/plain": [
       "       id        date first_name   last_name                       email  \\\n",
       "0       1  03/28/2021    Marylin      Alders        malders0@shop-pro.jp   \n",
       "1       2  03/19/2021      Hinda    Harridge          hharridge1@gnu.org   \n",
       "2       3  03/17/2021        Erl  Kilminster       ekilminster2@etsy.com   \n",
       "3       4  03/19/2021      Grata      Brantl            gbrantl3@umn.edu   \n",
       "4       5  03/24/2021      Kanya     Beasant         kbeasant4@jigsy.com   \n",
       "..    ...         ...        ...         ...                         ...   \n",
       "995   996  03/24/2021       Duff      Errigo        derrigorn@elpais.com   \n",
       "996   997  03/17/2021        Ame     Rastall       arastallro@toplist.cz   \n",
       "997   998  03/13/2021      Betty    Stickels  bstickelsrp@cloudflare.com   \n",
       "998   999  03/17/2021    Paquito       Tesoe      ptesoerq@rakuten.co.jp   \n",
       "999  1000  03/23/2021   Rochelle    Pringuer       rpringuerrr@house.gov   \n",
       "\n",
       "     gender       ip_address        country price_paid   tax  \n",
       "0      Male    160.119.8.119         Canada      $5.36   NaN  \n",
       "1    Female   210.51.172.132         Canada      $8.32   NaN  \n",
       "2      Male    213.8.101.145  United States      $3.73  20.0  \n",
       "3    Female    5.140.237.101  United States      $3.70  20.0  \n",
       "4      Male  106.252.162.233        Morocco      $9.24  20.0  \n",
       "..      ...              ...            ...        ...   ...  \n",
       "995  Female   193.84.247.144         France      $3.63   NaN  \n",
       "996  Female   188.219.12.109            NaN      $4.59  20.0  \n",
       "997    Male     199.80.60.87  United States      $7.54  20.0  \n",
       "998    Male      0.183.63.11  United States      $5.81   NaN  \n",
       "999     NaN   170.193.249.83         Canada      $8.01  20.0  \n",
       "\n",
       "[1000 rows x 10 columns]"
      ]
     },
     "execution_count": 36,
     "metadata": {},
     "output_type": "execute_result"
    }
   ],
   "source": [
    "# création d'un dataframe à partir d'un csv\n",
    "df = pd.read_csv('data.csv')\n",
    "df # dans jupyter notebook le prin n'est pas nécessaire"
   ]
  },
  {
   "cell_type": "code",
   "execution_count": 37,
   "metadata": {},
   "outputs": [
    {
     "name": "stdout",
     "output_type": "stream",
     "text": [
      "<class 'pandas.core.frame.DataFrame'>\n",
      "RangeIndex: 1000 entries, 0 to 999\n",
      "Data columns (total 10 columns):\n",
      " #   Column      Non-Null Count  Dtype  \n",
      "---  ------      --------------  -----  \n",
      " 0   id          1000 non-null   int64  \n",
      " 1   date        1000 non-null   object \n",
      " 2   first_name  1000 non-null   object \n",
      " 3   last_name   1000 non-null   object \n",
      " 4   email       1000 non-null   object \n",
      " 5   gender      931 non-null    object \n",
      " 6   ip_address  1000 non-null   object \n",
      " 7   country     956 non-null    object \n",
      " 8   price_paid  1000 non-null   object \n",
      " 9   tax         654 non-null    float64\n",
      "dtypes: float64(1), int64(1), object(8)\n",
      "memory usage: 78.3+ KB\n"
     ]
    }
   ],
   "source": [
    "df.info()"
   ]
  },
  {
   "cell_type": "code",
   "execution_count": 38,
   "metadata": {},
   "outputs": [
    {
     "data": {
      "text/html": [
       "<div>\n",
       "<style scoped>\n",
       "    .dataframe tbody tr th:only-of-type {\n",
       "        vertical-align: middle;\n",
       "    }\n",
       "\n",
       "    .dataframe tbody tr th {\n",
       "        vertical-align: top;\n",
       "    }\n",
       "\n",
       "    .dataframe thead th {\n",
       "        text-align: right;\n",
       "    }\n",
       "</style>\n",
       "<table border=\"1\" class=\"dataframe\">\n",
       "  <thead>\n",
       "    <tr style=\"text-align: right;\">\n",
       "      <th></th>\n",
       "      <th>id</th>\n",
       "      <th>tax</th>\n",
       "    </tr>\n",
       "  </thead>\n",
       "  <tbody>\n",
       "    <tr>\n",
       "      <th>count</th>\n",
       "      <td>1000.000000</td>\n",
       "      <td>654.0</td>\n",
       "    </tr>\n",
       "    <tr>\n",
       "      <th>mean</th>\n",
       "      <td>500.500000</td>\n",
       "      <td>20.0</td>\n",
       "    </tr>\n",
       "    <tr>\n",
       "      <th>std</th>\n",
       "      <td>288.819436</td>\n",
       "      <td>0.0</td>\n",
       "    </tr>\n",
       "    <tr>\n",
       "      <th>min</th>\n",
       "      <td>1.000000</td>\n",
       "      <td>20.0</td>\n",
       "    </tr>\n",
       "    <tr>\n",
       "      <th>25%</th>\n",
       "      <td>250.750000</td>\n",
       "      <td>20.0</td>\n",
       "    </tr>\n",
       "    <tr>\n",
       "      <th>50%</th>\n",
       "      <td>500.500000</td>\n",
       "      <td>20.0</td>\n",
       "    </tr>\n",
       "    <tr>\n",
       "      <th>75%</th>\n",
       "      <td>750.250000</td>\n",
       "      <td>20.0</td>\n",
       "    </tr>\n",
       "    <tr>\n",
       "      <th>max</th>\n",
       "      <td>1000.000000</td>\n",
       "      <td>20.0</td>\n",
       "    </tr>\n",
       "  </tbody>\n",
       "</table>\n",
       "</div>"
      ],
      "text/plain": [
       "                id    tax\n",
       "count  1000.000000  654.0\n",
       "mean    500.500000   20.0\n",
       "std     288.819436    0.0\n",
       "min       1.000000   20.0\n",
       "25%     250.750000   20.0\n",
       "50%     500.500000   20.0\n",
       "75%     750.250000   20.0\n",
       "max    1000.000000   20.0"
      ]
     },
     "execution_count": 38,
     "metadata": {},
     "output_type": "execute_result"
    }
   ],
   "source": [
    "df.describe()"
   ]
  },
  {
   "cell_type": "code",
   "execution_count": 39,
   "metadata": {},
   "outputs": [
    {
     "data": {
      "text/html": [
       "<div>\n",
       "<style scoped>\n",
       "    .dataframe tbody tr th:only-of-type {\n",
       "        vertical-align: middle;\n",
       "    }\n",
       "\n",
       "    .dataframe tbody tr th {\n",
       "        vertical-align: top;\n",
       "    }\n",
       "\n",
       "    .dataframe thead th {\n",
       "        text-align: right;\n",
       "    }\n",
       "</style>\n",
       "<table border=\"1\" class=\"dataframe\">\n",
       "  <thead>\n",
       "    <tr style=\"text-align: right;\">\n",
       "      <th></th>\n",
       "      <th>id</th>\n",
       "      <th>date</th>\n",
       "      <th>first_name</th>\n",
       "      <th>last_name</th>\n",
       "      <th>email</th>\n",
       "      <th>gender</th>\n",
       "      <th>ip_address</th>\n",
       "      <th>country</th>\n",
       "      <th>price_paid</th>\n",
       "      <th>tax</th>\n",
       "    </tr>\n",
       "  </thead>\n",
       "  <tbody>\n",
       "    <tr>\n",
       "      <th>0</th>\n",
       "      <td>1</td>\n",
       "      <td>03/28/2021</td>\n",
       "      <td>Marylin</td>\n",
       "      <td>Alders</td>\n",
       "      <td>malders0@shop-pro.jp</td>\n",
       "      <td>Male</td>\n",
       "      <td>160.119.8.119</td>\n",
       "      <td>Canada</td>\n",
       "      <td>$5.36</td>\n",
       "      <td>NaN</td>\n",
       "    </tr>\n",
       "    <tr>\n",
       "      <th>1</th>\n",
       "      <td>2</td>\n",
       "      <td>03/19/2021</td>\n",
       "      <td>Hinda</td>\n",
       "      <td>Harridge</td>\n",
       "      <td>hharridge1@gnu.org</td>\n",
       "      <td>Female</td>\n",
       "      <td>210.51.172.132</td>\n",
       "      <td>Canada</td>\n",
       "      <td>$8.32</td>\n",
       "      <td>NaN</td>\n",
       "    </tr>\n",
       "    <tr>\n",
       "      <th>2</th>\n",
       "      <td>3</td>\n",
       "      <td>03/17/2021</td>\n",
       "      <td>Erl</td>\n",
       "      <td>Kilminster</td>\n",
       "      <td>ekilminster2@etsy.com</td>\n",
       "      <td>Male</td>\n",
       "      <td>213.8.101.145</td>\n",
       "      <td>United States</td>\n",
       "      <td>$3.73</td>\n",
       "      <td>20.0</td>\n",
       "    </tr>\n",
       "    <tr>\n",
       "      <th>3</th>\n",
       "      <td>4</td>\n",
       "      <td>03/19/2021</td>\n",
       "      <td>Grata</td>\n",
       "      <td>Brantl</td>\n",
       "      <td>gbrantl3@umn.edu</td>\n",
       "      <td>Female</td>\n",
       "      <td>5.140.237.101</td>\n",
       "      <td>United States</td>\n",
       "      <td>$3.70</td>\n",
       "      <td>20.0</td>\n",
       "    </tr>\n",
       "    <tr>\n",
       "      <th>4</th>\n",
       "      <td>5</td>\n",
       "      <td>03/24/2021</td>\n",
       "      <td>Kanya</td>\n",
       "      <td>Beasant</td>\n",
       "      <td>kbeasant4@jigsy.com</td>\n",
       "      <td>Male</td>\n",
       "      <td>106.252.162.233</td>\n",
       "      <td>Morocco</td>\n",
       "      <td>$9.24</td>\n",
       "      <td>20.0</td>\n",
       "    </tr>\n",
       "  </tbody>\n",
       "</table>\n",
       "</div>"
      ],
      "text/plain": [
       "   id        date first_name   last_name                  email  gender  \\\n",
       "0   1  03/28/2021    Marylin      Alders   malders0@shop-pro.jp    Male   \n",
       "1   2  03/19/2021      Hinda    Harridge     hharridge1@gnu.org  Female   \n",
       "2   3  03/17/2021        Erl  Kilminster  ekilminster2@etsy.com    Male   \n",
       "3   4  03/19/2021      Grata      Brantl       gbrantl3@umn.edu  Female   \n",
       "4   5  03/24/2021      Kanya     Beasant    kbeasant4@jigsy.com    Male   \n",
       "\n",
       "        ip_address        country price_paid   tax  \n",
       "0    160.119.8.119         Canada      $5.36   NaN  \n",
       "1   210.51.172.132         Canada      $8.32   NaN  \n",
       "2    213.8.101.145  United States      $3.73  20.0  \n",
       "3    5.140.237.101  United States      $3.70  20.0  \n",
       "4  106.252.162.233        Morocco      $9.24  20.0  "
      ]
     },
     "execution_count": 39,
     "metadata": {},
     "output_type": "execute_result"
    }
   ],
   "source": [
    "df.head() #affiche les 5 premières lignes"
   ]
  },
  {
   "cell_type": "code",
   "execution_count": 40,
   "metadata": {},
   "outputs": [
    {
     "data": {
      "text/html": [
       "<div>\n",
       "<style scoped>\n",
       "    .dataframe tbody tr th:only-of-type {\n",
       "        vertical-align: middle;\n",
       "    }\n",
       "\n",
       "    .dataframe tbody tr th {\n",
       "        vertical-align: top;\n",
       "    }\n",
       "\n",
       "    .dataframe thead th {\n",
       "        text-align: right;\n",
       "    }\n",
       "</style>\n",
       "<table border=\"1\" class=\"dataframe\">\n",
       "  <thead>\n",
       "    <tr style=\"text-align: right;\">\n",
       "      <th></th>\n",
       "      <th>id</th>\n",
       "      <th>date</th>\n",
       "      <th>first_name</th>\n",
       "      <th>last_name</th>\n",
       "      <th>email</th>\n",
       "      <th>gender</th>\n",
       "      <th>ip_address</th>\n",
       "      <th>country</th>\n",
       "      <th>price_paid</th>\n",
       "      <th>tax</th>\n",
       "    </tr>\n",
       "  </thead>\n",
       "  <tbody>\n",
       "    <tr>\n",
       "      <th>995</th>\n",
       "      <td>996</td>\n",
       "      <td>03/24/2021</td>\n",
       "      <td>Duff</td>\n",
       "      <td>Errigo</td>\n",
       "      <td>derrigorn@elpais.com</td>\n",
       "      <td>Female</td>\n",
       "      <td>193.84.247.144</td>\n",
       "      <td>France</td>\n",
       "      <td>$3.63</td>\n",
       "      <td>NaN</td>\n",
       "    </tr>\n",
       "    <tr>\n",
       "      <th>996</th>\n",
       "      <td>997</td>\n",
       "      <td>03/17/2021</td>\n",
       "      <td>Ame</td>\n",
       "      <td>Rastall</td>\n",
       "      <td>arastallro@toplist.cz</td>\n",
       "      <td>Female</td>\n",
       "      <td>188.219.12.109</td>\n",
       "      <td>NaN</td>\n",
       "      <td>$4.59</td>\n",
       "      <td>20.0</td>\n",
       "    </tr>\n",
       "    <tr>\n",
       "      <th>997</th>\n",
       "      <td>998</td>\n",
       "      <td>03/13/2021</td>\n",
       "      <td>Betty</td>\n",
       "      <td>Stickels</td>\n",
       "      <td>bstickelsrp@cloudflare.com</td>\n",
       "      <td>Male</td>\n",
       "      <td>199.80.60.87</td>\n",
       "      <td>United States</td>\n",
       "      <td>$7.54</td>\n",
       "      <td>20.0</td>\n",
       "    </tr>\n",
       "    <tr>\n",
       "      <th>998</th>\n",
       "      <td>999</td>\n",
       "      <td>03/17/2021</td>\n",
       "      <td>Paquito</td>\n",
       "      <td>Tesoe</td>\n",
       "      <td>ptesoerq@rakuten.co.jp</td>\n",
       "      <td>Male</td>\n",
       "      <td>0.183.63.11</td>\n",
       "      <td>United States</td>\n",
       "      <td>$5.81</td>\n",
       "      <td>NaN</td>\n",
       "    </tr>\n",
       "    <tr>\n",
       "      <th>999</th>\n",
       "      <td>1000</td>\n",
       "      <td>03/23/2021</td>\n",
       "      <td>Rochelle</td>\n",
       "      <td>Pringuer</td>\n",
       "      <td>rpringuerrr@house.gov</td>\n",
       "      <td>NaN</td>\n",
       "      <td>170.193.249.83</td>\n",
       "      <td>Canada</td>\n",
       "      <td>$8.01</td>\n",
       "      <td>20.0</td>\n",
       "    </tr>\n",
       "  </tbody>\n",
       "</table>\n",
       "</div>"
      ],
      "text/plain": [
       "       id        date first_name last_name                       email  \\\n",
       "995   996  03/24/2021       Duff    Errigo        derrigorn@elpais.com   \n",
       "996   997  03/17/2021        Ame   Rastall       arastallro@toplist.cz   \n",
       "997   998  03/13/2021      Betty  Stickels  bstickelsrp@cloudflare.com   \n",
       "998   999  03/17/2021    Paquito     Tesoe      ptesoerq@rakuten.co.jp   \n",
       "999  1000  03/23/2021   Rochelle  Pringuer       rpringuerrr@house.gov   \n",
       "\n",
       "     gender      ip_address        country price_paid   tax  \n",
       "995  Female  193.84.247.144         France      $3.63   NaN  \n",
       "996  Female  188.219.12.109            NaN      $4.59  20.0  \n",
       "997    Male    199.80.60.87  United States      $7.54  20.0  \n",
       "998    Male     0.183.63.11  United States      $5.81   NaN  \n",
       "999     NaN  170.193.249.83         Canada      $8.01  20.0  "
      ]
     },
     "execution_count": 40,
     "metadata": {},
     "output_type": "execute_result"
    }
   ],
   "source": [
    "df.tail() #affiche les 5 dernières lignes"
   ]
  },
  {
   "cell_type": "code",
   "execution_count": 41,
   "metadata": {},
   "outputs": [],
   "source": [
    "# copie du dataframe\n",
    "copy = df.copy()\n"
   ]
  },
  {
   "cell_type": "code",
   "execution_count": 42,
   "metadata": {},
   "outputs": [
    {
     "data": {
      "text/html": [
       "<div>\n",
       "<style scoped>\n",
       "    .dataframe tbody tr th:only-of-type {\n",
       "        vertical-align: middle;\n",
       "    }\n",
       "\n",
       "    .dataframe tbody tr th {\n",
       "        vertical-align: top;\n",
       "    }\n",
       "\n",
       "    .dataframe thead th {\n",
       "        text-align: right;\n",
       "    }\n",
       "</style>\n",
       "<table border=\"1\" class=\"dataframe\">\n",
       "  <thead>\n",
       "    <tr style=\"text-align: right;\">\n",
       "      <th></th>\n",
       "      <th>id</th>\n",
       "      <th>date</th>\n",
       "      <th>first_name</th>\n",
       "      <th>last_name</th>\n",
       "      <th>email</th>\n",
       "      <th>gender</th>\n",
       "      <th>ip_address</th>\n",
       "      <th>country</th>\n",
       "      <th>price_paid</th>\n",
       "      <th>tax</th>\n",
       "    </tr>\n",
       "  </thead>\n",
       "  <tbody>\n",
       "    <tr>\n",
       "      <th>0</th>\n",
       "      <td>1</td>\n",
       "      <td>03/28/2021</td>\n",
       "      <td>Marylin</td>\n",
       "      <td>Alders</td>\n",
       "      <td>malders0@shop-pro.jp</td>\n",
       "      <td>Male</td>\n",
       "      <td>160.119.8.119</td>\n",
       "      <td>Canada</td>\n",
       "      <td>5.36</td>\n",
       "      <td>NaN</td>\n",
       "    </tr>\n",
       "    <tr>\n",
       "      <th>1</th>\n",
       "      <td>2</td>\n",
       "      <td>03/19/2021</td>\n",
       "      <td>Hinda</td>\n",
       "      <td>Harridge</td>\n",
       "      <td>hharridge1@gnu.org</td>\n",
       "      <td>Female</td>\n",
       "      <td>210.51.172.132</td>\n",
       "      <td>Canada</td>\n",
       "      <td>8.32</td>\n",
       "      <td>NaN</td>\n",
       "    </tr>\n",
       "    <tr>\n",
       "      <th>2</th>\n",
       "      <td>3</td>\n",
       "      <td>03/17/2021</td>\n",
       "      <td>Erl</td>\n",
       "      <td>Kilminster</td>\n",
       "      <td>ekilminster2@etsy.com</td>\n",
       "      <td>Male</td>\n",
       "      <td>213.8.101.145</td>\n",
       "      <td>United States</td>\n",
       "      <td>3.73</td>\n",
       "      <td>20.0</td>\n",
       "    </tr>\n",
       "    <tr>\n",
       "      <th>3</th>\n",
       "      <td>4</td>\n",
       "      <td>03/19/2021</td>\n",
       "      <td>Grata</td>\n",
       "      <td>Brantl</td>\n",
       "      <td>gbrantl3@umn.edu</td>\n",
       "      <td>Female</td>\n",
       "      <td>5.140.237.101</td>\n",
       "      <td>United States</td>\n",
       "      <td>3.70</td>\n",
       "      <td>20.0</td>\n",
       "    </tr>\n",
       "    <tr>\n",
       "      <th>4</th>\n",
       "      <td>5</td>\n",
       "      <td>03/24/2021</td>\n",
       "      <td>Kanya</td>\n",
       "      <td>Beasant</td>\n",
       "      <td>kbeasant4@jigsy.com</td>\n",
       "      <td>Male</td>\n",
       "      <td>106.252.162.233</td>\n",
       "      <td>Morocco</td>\n",
       "      <td>9.24</td>\n",
       "      <td>20.0</td>\n",
       "    </tr>\n",
       "  </tbody>\n",
       "</table>\n",
       "</div>"
      ],
      "text/plain": [
       "   id        date first_name   last_name                  email  gender  \\\n",
       "0   1  03/28/2021    Marylin      Alders   malders0@shop-pro.jp    Male   \n",
       "1   2  03/19/2021      Hinda    Harridge     hharridge1@gnu.org  Female   \n",
       "2   3  03/17/2021        Erl  Kilminster  ekilminster2@etsy.com    Male   \n",
       "3   4  03/19/2021      Grata      Brantl       gbrantl3@umn.edu  Female   \n",
       "4   5  03/24/2021      Kanya     Beasant    kbeasant4@jigsy.com    Male   \n",
       "\n",
       "        ip_address        country price_paid   tax  \n",
       "0    160.119.8.119         Canada       5.36   NaN  \n",
       "1   210.51.172.132         Canada       8.32   NaN  \n",
       "2    213.8.101.145  United States       3.73  20.0  \n",
       "3    5.140.237.101  United States       3.70  20.0  \n",
       "4  106.252.162.233        Morocco       9.24  20.0  "
      ]
     },
     "execution_count": 42,
     "metadata": {},
     "output_type": "execute_result"
    }
   ],
   "source": [
    "#condition = copy['price_paid'] >= 5\n",
    "#copy[condition]\n",
    "# colonne price_paid: n'est pas de type numérique (c'est un object)\n",
    "\n",
    "def replace(chaine):\n",
    "    return chaine.replace('$','')\n",
    "\n",
    "copy['price_paid'] = copy['price_paid'].apply(replace)\n",
    "copy.head()"
   ]
  },
  {
   "cell_type": "code",
   "execution_count": 43,
   "metadata": {},
   "outputs": [
    {
     "name": "stdout",
     "output_type": "stream",
     "text": [
      "<class 'pandas.core.frame.DataFrame'>\n",
      "RangeIndex: 1000 entries, 0 to 999\n",
      "Data columns (total 10 columns):\n",
      " #   Column      Non-Null Count  Dtype  \n",
      "---  ------      --------------  -----  \n",
      " 0   id          1000 non-null   int64  \n",
      " 1   date        1000 non-null   object \n",
      " 2   first_name  1000 non-null   object \n",
      " 3   last_name   1000 non-null   object \n",
      " 4   email       1000 non-null   object \n",
      " 5   gender      931 non-null    object \n",
      " 6   ip_address  1000 non-null   object \n",
      " 7   country     956 non-null    object \n",
      " 8   price_paid  1000 non-null   object \n",
      " 9   tax         654 non-null    float64\n",
      "dtypes: float64(1), int64(1), object(8)\n",
      "memory usage: 78.3+ KB\n"
     ]
    }
   ],
   "source": [
    "copy.info()"
   ]
  },
  {
   "cell_type": "code",
   "execution_count": 44,
   "metadata": {},
   "outputs": [
    {
     "name": "stdout",
     "output_type": "stream",
     "text": [
      "<class 'pandas.core.frame.DataFrame'>\n",
      "RangeIndex: 1000 entries, 0 to 999\n",
      "Data columns (total 10 columns):\n",
      " #   Column      Non-Null Count  Dtype  \n",
      "---  ------      --------------  -----  \n",
      " 0   id          1000 non-null   int64  \n",
      " 1   date        1000 non-null   object \n",
      " 2   first_name  1000 non-null   object \n",
      " 3   last_name   1000 non-null   object \n",
      " 4   email       1000 non-null   object \n",
      " 5   gender      931 non-null    object \n",
      " 6   ip_address  1000 non-null   object \n",
      " 7   country     956 non-null    object \n",
      " 8   price_paid  1000 non-null   float64\n",
      " 9   tax         654 non-null    float64\n",
      "dtypes: float64(2), int64(1), object(7)\n",
      "memory usage: 78.3+ KB\n"
     ]
    }
   ],
   "source": [
    "# modifier le type de données d'une colonne:\n",
    "copy['price_paid'] = copy['price_paid'].astype(float)\n",
    "copy.info()"
   ]
  },
  {
   "cell_type": "code",
   "execution_count": 45,
   "metadata": {},
   "outputs": [
    {
     "data": {
      "text/html": [
       "<div>\n",
       "<style scoped>\n",
       "    .dataframe tbody tr th:only-of-type {\n",
       "        vertical-align: middle;\n",
       "    }\n",
       "\n",
       "    .dataframe tbody tr th {\n",
       "        vertical-align: top;\n",
       "    }\n",
       "\n",
       "    .dataframe thead th {\n",
       "        text-align: right;\n",
       "    }\n",
       "</style>\n",
       "<table border=\"1\" class=\"dataframe\">\n",
       "  <thead>\n",
       "    <tr style=\"text-align: right;\">\n",
       "      <th></th>\n",
       "      <th>id</th>\n",
       "      <th>date</th>\n",
       "      <th>first_name</th>\n",
       "      <th>last_name</th>\n",
       "      <th>email</th>\n",
       "      <th>gender</th>\n",
       "      <th>ip_address</th>\n",
       "      <th>country</th>\n",
       "      <th>price_paid</th>\n",
       "      <th>tax</th>\n",
       "    </tr>\n",
       "  </thead>\n",
       "  <tbody>\n",
       "    <tr>\n",
       "      <th>0</th>\n",
       "      <td>1</td>\n",
       "      <td>03/28/2021</td>\n",
       "      <td>Marylin</td>\n",
       "      <td>Alders</td>\n",
       "      <td>malders0@shop-pro.jp</td>\n",
       "      <td>Male</td>\n",
       "      <td>160.119.8.119</td>\n",
       "      <td>Canada</td>\n",
       "      <td>5.36</td>\n",
       "      <td>NaN</td>\n",
       "    </tr>\n",
       "    <tr>\n",
       "      <th>1</th>\n",
       "      <td>2</td>\n",
       "      <td>03/19/2021</td>\n",
       "      <td>Hinda</td>\n",
       "      <td>Harridge</td>\n",
       "      <td>hharridge1@gnu.org</td>\n",
       "      <td>Female</td>\n",
       "      <td>210.51.172.132</td>\n",
       "      <td>Canada</td>\n",
       "      <td>8.32</td>\n",
       "      <td>NaN</td>\n",
       "    </tr>\n",
       "    <tr>\n",
       "      <th>4</th>\n",
       "      <td>5</td>\n",
       "      <td>03/24/2021</td>\n",
       "      <td>Kanya</td>\n",
       "      <td>Beasant</td>\n",
       "      <td>kbeasant4@jigsy.com</td>\n",
       "      <td>Male</td>\n",
       "      <td>106.252.162.233</td>\n",
       "      <td>Morocco</td>\n",
       "      <td>9.24</td>\n",
       "      <td>20.0</td>\n",
       "    </tr>\n",
       "    <tr>\n",
       "      <th>5</th>\n",
       "      <td>6</td>\n",
       "      <td>03/25/2021</td>\n",
       "      <td>Titos</td>\n",
       "      <td>Braybrooke</td>\n",
       "      <td>tbraybrooke5@umn.edu</td>\n",
       "      <td>Female</td>\n",
       "      <td>173.100.21.179</td>\n",
       "      <td>United States</td>\n",
       "      <td>5.82</td>\n",
       "      <td>NaN</td>\n",
       "    </tr>\n",
       "    <tr>\n",
       "      <th>6</th>\n",
       "      <td>7</td>\n",
       "      <td>03/14/2021</td>\n",
       "      <td>Ava</td>\n",
       "      <td>Kencott</td>\n",
       "      <td>akencott6@phoca.cz</td>\n",
       "      <td>Female</td>\n",
       "      <td>118.251.45.43</td>\n",
       "      <td>Canada</td>\n",
       "      <td>6.29</td>\n",
       "      <td>NaN</td>\n",
       "    </tr>\n",
       "    <tr>\n",
       "      <th>...</th>\n",
       "      <td>...</td>\n",
       "      <td>...</td>\n",
       "      <td>...</td>\n",
       "      <td>...</td>\n",
       "      <td>...</td>\n",
       "      <td>...</td>\n",
       "      <td>...</td>\n",
       "      <td>...</td>\n",
       "      <td>...</td>\n",
       "      <td>...</td>\n",
       "    </tr>\n",
       "    <tr>\n",
       "      <th>992</th>\n",
       "      <td>993</td>\n",
       "      <td>03/04/2021</td>\n",
       "      <td>Maurene</td>\n",
       "      <td>Guilloneau</td>\n",
       "      <td>mguilloneaurk@about.me</td>\n",
       "      <td>Male</td>\n",
       "      <td>108.73.141.204</td>\n",
       "      <td>France</td>\n",
       "      <td>9.19</td>\n",
       "      <td>NaN</td>\n",
       "    </tr>\n",
       "    <tr>\n",
       "      <th>994</th>\n",
       "      <td>995</td>\n",
       "      <td>03/17/2021</td>\n",
       "      <td>Carolyne</td>\n",
       "      <td>Bruntjen</td>\n",
       "      <td>cbruntjenrm@reference.com</td>\n",
       "      <td>Female</td>\n",
       "      <td>7.29.168.78</td>\n",
       "      <td>France</td>\n",
       "      <td>5.68</td>\n",
       "      <td>20.0</td>\n",
       "    </tr>\n",
       "    <tr>\n",
       "      <th>997</th>\n",
       "      <td>998</td>\n",
       "      <td>03/13/2021</td>\n",
       "      <td>Betty</td>\n",
       "      <td>Stickels</td>\n",
       "      <td>bstickelsrp@cloudflare.com</td>\n",
       "      <td>Male</td>\n",
       "      <td>199.80.60.87</td>\n",
       "      <td>United States</td>\n",
       "      <td>7.54</td>\n",
       "      <td>20.0</td>\n",
       "    </tr>\n",
       "    <tr>\n",
       "      <th>998</th>\n",
       "      <td>999</td>\n",
       "      <td>03/17/2021</td>\n",
       "      <td>Paquito</td>\n",
       "      <td>Tesoe</td>\n",
       "      <td>ptesoerq@rakuten.co.jp</td>\n",
       "      <td>Male</td>\n",
       "      <td>0.183.63.11</td>\n",
       "      <td>United States</td>\n",
       "      <td>5.81</td>\n",
       "      <td>NaN</td>\n",
       "    </tr>\n",
       "    <tr>\n",
       "      <th>999</th>\n",
       "      <td>1000</td>\n",
       "      <td>03/23/2021</td>\n",
       "      <td>Rochelle</td>\n",
       "      <td>Pringuer</td>\n",
       "      <td>rpringuerrr@house.gov</td>\n",
       "      <td>NaN</td>\n",
       "      <td>170.193.249.83</td>\n",
       "      <td>Canada</td>\n",
       "      <td>8.01</td>\n",
       "      <td>20.0</td>\n",
       "    </tr>\n",
       "  </tbody>\n",
       "</table>\n",
       "<p>696 rows × 10 columns</p>\n",
       "</div>"
      ],
      "text/plain": [
       "       id        date first_name   last_name                       email  \\\n",
       "0       1  03/28/2021    Marylin      Alders        malders0@shop-pro.jp   \n",
       "1       2  03/19/2021      Hinda    Harridge          hharridge1@gnu.org   \n",
       "4       5  03/24/2021      Kanya     Beasant         kbeasant4@jigsy.com   \n",
       "5       6  03/25/2021      Titos  Braybrooke        tbraybrooke5@umn.edu   \n",
       "6       7  03/14/2021        Ava     Kencott          akencott6@phoca.cz   \n",
       "..    ...         ...        ...         ...                         ...   \n",
       "992   993  03/04/2021    Maurene  Guilloneau      mguilloneaurk@about.me   \n",
       "994   995  03/17/2021   Carolyne    Bruntjen   cbruntjenrm@reference.com   \n",
       "997   998  03/13/2021      Betty    Stickels  bstickelsrp@cloudflare.com   \n",
       "998   999  03/17/2021    Paquito       Tesoe      ptesoerq@rakuten.co.jp   \n",
       "999  1000  03/23/2021   Rochelle    Pringuer       rpringuerrr@house.gov   \n",
       "\n",
       "     gender       ip_address        country  price_paid   tax  \n",
       "0      Male    160.119.8.119         Canada        5.36   NaN  \n",
       "1    Female   210.51.172.132         Canada        8.32   NaN  \n",
       "4      Male  106.252.162.233        Morocco        9.24  20.0  \n",
       "5    Female   173.100.21.179  United States        5.82   NaN  \n",
       "6    Female    118.251.45.43         Canada        6.29   NaN  \n",
       "..      ...              ...            ...         ...   ...  \n",
       "992    Male   108.73.141.204         France        9.19   NaN  \n",
       "994  Female      7.29.168.78         France        5.68  20.0  \n",
       "997    Male     199.80.60.87  United States        7.54  20.0  \n",
       "998    Male      0.183.63.11  United States        5.81   NaN  \n",
       "999     NaN   170.193.249.83         Canada        8.01  20.0  \n",
       "\n",
       "[696 rows x 10 columns]"
      ]
     },
     "execution_count": 45,
     "metadata": {},
     "output_type": "execute_result"
    }
   ],
   "source": [
    "condition = copy['price_paid'] >= 5\n",
    "copy[condition]"
   ]
  },
  {
   "cell_type": "markdown",
   "metadata": {},
   "source": [
    "### Gestion des valeurs nulles"
   ]
  },
  {
   "cell_type": "code",
   "execution_count": 46,
   "metadata": {},
   "outputs": [
    {
     "data": {
      "text/html": [
       "<div>\n",
       "<style scoped>\n",
       "    .dataframe tbody tr th:only-of-type {\n",
       "        vertical-align: middle;\n",
       "    }\n",
       "\n",
       "    .dataframe tbody tr th {\n",
       "        vertical-align: top;\n",
       "    }\n",
       "\n",
       "    .dataframe thead th {\n",
       "        text-align: right;\n",
       "    }\n",
       "</style>\n",
       "<table border=\"1\" class=\"dataframe\">\n",
       "  <thead>\n",
       "    <tr style=\"text-align: right;\">\n",
       "      <th></th>\n",
       "      <th>id</th>\n",
       "      <th>date</th>\n",
       "      <th>first_name</th>\n",
       "      <th>last_name</th>\n",
       "      <th>email</th>\n",
       "      <th>gender</th>\n",
       "      <th>ip_address</th>\n",
       "      <th>country</th>\n",
       "      <th>price_paid</th>\n",
       "      <th>tax</th>\n",
       "    </tr>\n",
       "  </thead>\n",
       "  <tbody>\n",
       "    <tr>\n",
       "      <th>0</th>\n",
       "      <td>False</td>\n",
       "      <td>False</td>\n",
       "      <td>False</td>\n",
       "      <td>False</td>\n",
       "      <td>False</td>\n",
       "      <td>False</td>\n",
       "      <td>False</td>\n",
       "      <td>False</td>\n",
       "      <td>False</td>\n",
       "      <td>True</td>\n",
       "    </tr>\n",
       "    <tr>\n",
       "      <th>1</th>\n",
       "      <td>False</td>\n",
       "      <td>False</td>\n",
       "      <td>False</td>\n",
       "      <td>False</td>\n",
       "      <td>False</td>\n",
       "      <td>False</td>\n",
       "      <td>False</td>\n",
       "      <td>False</td>\n",
       "      <td>False</td>\n",
       "      <td>True</td>\n",
       "    </tr>\n",
       "    <tr>\n",
       "      <th>2</th>\n",
       "      <td>False</td>\n",
       "      <td>False</td>\n",
       "      <td>False</td>\n",
       "      <td>False</td>\n",
       "      <td>False</td>\n",
       "      <td>False</td>\n",
       "      <td>False</td>\n",
       "      <td>False</td>\n",
       "      <td>False</td>\n",
       "      <td>False</td>\n",
       "    </tr>\n",
       "    <tr>\n",
       "      <th>3</th>\n",
       "      <td>False</td>\n",
       "      <td>False</td>\n",
       "      <td>False</td>\n",
       "      <td>False</td>\n",
       "      <td>False</td>\n",
       "      <td>False</td>\n",
       "      <td>False</td>\n",
       "      <td>False</td>\n",
       "      <td>False</td>\n",
       "      <td>False</td>\n",
       "    </tr>\n",
       "    <tr>\n",
       "      <th>4</th>\n",
       "      <td>False</td>\n",
       "      <td>False</td>\n",
       "      <td>False</td>\n",
       "      <td>False</td>\n",
       "      <td>False</td>\n",
       "      <td>False</td>\n",
       "      <td>False</td>\n",
       "      <td>False</td>\n",
       "      <td>False</td>\n",
       "      <td>False</td>\n",
       "    </tr>\n",
       "    <tr>\n",
       "      <th>...</th>\n",
       "      <td>...</td>\n",
       "      <td>...</td>\n",
       "      <td>...</td>\n",
       "      <td>...</td>\n",
       "      <td>...</td>\n",
       "      <td>...</td>\n",
       "      <td>...</td>\n",
       "      <td>...</td>\n",
       "      <td>...</td>\n",
       "      <td>...</td>\n",
       "    </tr>\n",
       "    <tr>\n",
       "      <th>995</th>\n",
       "      <td>False</td>\n",
       "      <td>False</td>\n",
       "      <td>False</td>\n",
       "      <td>False</td>\n",
       "      <td>False</td>\n",
       "      <td>False</td>\n",
       "      <td>False</td>\n",
       "      <td>False</td>\n",
       "      <td>False</td>\n",
       "      <td>True</td>\n",
       "    </tr>\n",
       "    <tr>\n",
       "      <th>996</th>\n",
       "      <td>False</td>\n",
       "      <td>False</td>\n",
       "      <td>False</td>\n",
       "      <td>False</td>\n",
       "      <td>False</td>\n",
       "      <td>False</td>\n",
       "      <td>False</td>\n",
       "      <td>True</td>\n",
       "      <td>False</td>\n",
       "      <td>False</td>\n",
       "    </tr>\n",
       "    <tr>\n",
       "      <th>997</th>\n",
       "      <td>False</td>\n",
       "      <td>False</td>\n",
       "      <td>False</td>\n",
       "      <td>False</td>\n",
       "      <td>False</td>\n",
       "      <td>False</td>\n",
       "      <td>False</td>\n",
       "      <td>False</td>\n",
       "      <td>False</td>\n",
       "      <td>False</td>\n",
       "    </tr>\n",
       "    <tr>\n",
       "      <th>998</th>\n",
       "      <td>False</td>\n",
       "      <td>False</td>\n",
       "      <td>False</td>\n",
       "      <td>False</td>\n",
       "      <td>False</td>\n",
       "      <td>False</td>\n",
       "      <td>False</td>\n",
       "      <td>False</td>\n",
       "      <td>False</td>\n",
       "      <td>True</td>\n",
       "    </tr>\n",
       "    <tr>\n",
       "      <th>999</th>\n",
       "      <td>False</td>\n",
       "      <td>False</td>\n",
       "      <td>False</td>\n",
       "      <td>False</td>\n",
       "      <td>False</td>\n",
       "      <td>True</td>\n",
       "      <td>False</td>\n",
       "      <td>False</td>\n",
       "      <td>False</td>\n",
       "      <td>False</td>\n",
       "    </tr>\n",
       "  </tbody>\n",
       "</table>\n",
       "<p>1000 rows × 10 columns</p>\n",
       "</div>"
      ],
      "text/plain": [
       "        id   date  first_name  last_name  email  gender  ip_address  country  \\\n",
       "0    False  False       False      False  False   False       False    False   \n",
       "1    False  False       False      False  False   False       False    False   \n",
       "2    False  False       False      False  False   False       False    False   \n",
       "3    False  False       False      False  False   False       False    False   \n",
       "4    False  False       False      False  False   False       False    False   \n",
       "..     ...    ...         ...        ...    ...     ...         ...      ...   \n",
       "995  False  False       False      False  False   False       False    False   \n",
       "996  False  False       False      False  False   False       False     True   \n",
       "997  False  False       False      False  False   False       False    False   \n",
       "998  False  False       False      False  False   False       False    False   \n",
       "999  False  False       False      False  False    True       False    False   \n",
       "\n",
       "     price_paid    tax  \n",
       "0         False   True  \n",
       "1         False   True  \n",
       "2         False  False  \n",
       "3         False  False  \n",
       "4         False  False  \n",
       "..          ...    ...  \n",
       "995       False   True  \n",
       "996       False  False  \n",
       "997       False  False  \n",
       "998       False   True  \n",
       "999       False  False  \n",
       "\n",
       "[1000 rows x 10 columns]"
      ]
     },
     "execution_count": 46,
     "metadata": {},
     "output_type": "execute_result"
    }
   ],
   "source": [
    "copy.isnull()"
   ]
  },
  {
   "cell_type": "code",
   "execution_count": 47,
   "metadata": {},
   "outputs": [
    {
     "data": {
      "text/plain": [
       "id              0\n",
       "date            0\n",
       "first_name      0\n",
       "last_name       0\n",
       "email           0\n",
       "gender         69\n",
       "ip_address      0\n",
       "country        44\n",
       "price_paid      0\n",
       "tax           346\n",
       "dtype: int64"
      ]
     },
     "execution_count": 47,
     "metadata": {},
     "output_type": "execute_result"
    }
   ],
   "source": [
    "copy.isnull().sum()"
   ]
  },
  {
   "cell_type": "code",
   "execution_count": 48,
   "metadata": {},
   "outputs": [
    {
     "data": {
      "text/html": [
       "<div>\n",
       "<style scoped>\n",
       "    .dataframe tbody tr th:only-of-type {\n",
       "        vertical-align: middle;\n",
       "    }\n",
       "\n",
       "    .dataframe tbody tr th {\n",
       "        vertical-align: top;\n",
       "    }\n",
       "\n",
       "    .dataframe thead th {\n",
       "        text-align: right;\n",
       "    }\n",
       "</style>\n",
       "<table border=\"1\" class=\"dataframe\">\n",
       "  <thead>\n",
       "    <tr style=\"text-align: right;\">\n",
       "      <th></th>\n",
       "      <th>id</th>\n",
       "      <th>date</th>\n",
       "      <th>first_name</th>\n",
       "      <th>last_name</th>\n",
       "      <th>email</th>\n",
       "      <th>gender</th>\n",
       "      <th>ip_address</th>\n",
       "      <th>country</th>\n",
       "      <th>price_paid</th>\n",
       "      <th>tax</th>\n",
       "    </tr>\n",
       "  </thead>\n",
       "  <tbody>\n",
       "    <tr>\n",
       "      <th>2</th>\n",
       "      <td>3</td>\n",
       "      <td>03/17/2021</td>\n",
       "      <td>Erl</td>\n",
       "      <td>Kilminster</td>\n",
       "      <td>ekilminster2@etsy.com</td>\n",
       "      <td>Male</td>\n",
       "      <td>213.8.101.145</td>\n",
       "      <td>United States</td>\n",
       "      <td>3.73</td>\n",
       "      <td>20.0</td>\n",
       "    </tr>\n",
       "    <tr>\n",
       "      <th>3</th>\n",
       "      <td>4</td>\n",
       "      <td>03/19/2021</td>\n",
       "      <td>Grata</td>\n",
       "      <td>Brantl</td>\n",
       "      <td>gbrantl3@umn.edu</td>\n",
       "      <td>Female</td>\n",
       "      <td>5.140.237.101</td>\n",
       "      <td>United States</td>\n",
       "      <td>3.70</td>\n",
       "      <td>20.0</td>\n",
       "    </tr>\n",
       "    <tr>\n",
       "      <th>4</th>\n",
       "      <td>5</td>\n",
       "      <td>03/24/2021</td>\n",
       "      <td>Kanya</td>\n",
       "      <td>Beasant</td>\n",
       "      <td>kbeasant4@jigsy.com</td>\n",
       "      <td>Male</td>\n",
       "      <td>106.252.162.233</td>\n",
       "      <td>Morocco</td>\n",
       "      <td>9.24</td>\n",
       "      <td>20.0</td>\n",
       "    </tr>\n",
       "    <tr>\n",
       "      <th>7</th>\n",
       "      <td>8</td>\n",
       "      <td>03/08/2021</td>\n",
       "      <td>Codi</td>\n",
       "      <td>Feasley</td>\n",
       "      <td>cfeasley7@ed.gov</td>\n",
       "      <td>Male</td>\n",
       "      <td>26.190.191.249</td>\n",
       "      <td>France</td>\n",
       "      <td>3.01</td>\n",
       "      <td>20.0</td>\n",
       "    </tr>\n",
       "    <tr>\n",
       "      <th>8</th>\n",
       "      <td>9</td>\n",
       "      <td>03/09/2021</td>\n",
       "      <td>Waylon</td>\n",
       "      <td>Heersema</td>\n",
       "      <td>wheersema8@tumblr.com</td>\n",
       "      <td>Male</td>\n",
       "      <td>63.242.174.112</td>\n",
       "      <td>Canada</td>\n",
       "      <td>3.70</td>\n",
       "      <td>20.0</td>\n",
       "    </tr>\n",
       "    <tr>\n",
       "      <th>...</th>\n",
       "      <td>...</td>\n",
       "      <td>...</td>\n",
       "      <td>...</td>\n",
       "      <td>...</td>\n",
       "      <td>...</td>\n",
       "      <td>...</td>\n",
       "      <td>...</td>\n",
       "      <td>...</td>\n",
       "      <td>...</td>\n",
       "      <td>...</td>\n",
       "    </tr>\n",
       "    <tr>\n",
       "      <th>991</th>\n",
       "      <td>992</td>\n",
       "      <td>03/07/2021</td>\n",
       "      <td>Elihu</td>\n",
       "      <td>Crush</td>\n",
       "      <td>ecrushrj@berkeley.edu</td>\n",
       "      <td>Male</td>\n",
       "      <td>174.38.173.53</td>\n",
       "      <td>Morocco</td>\n",
       "      <td>5.05</td>\n",
       "      <td>20.0</td>\n",
       "    </tr>\n",
       "    <tr>\n",
       "      <th>994</th>\n",
       "      <td>995</td>\n",
       "      <td>03/17/2021</td>\n",
       "      <td>Carolyne</td>\n",
       "      <td>Bruntjen</td>\n",
       "      <td>cbruntjenrm@reference.com</td>\n",
       "      <td>Female</td>\n",
       "      <td>7.29.168.78</td>\n",
       "      <td>France</td>\n",
       "      <td>5.68</td>\n",
       "      <td>20.0</td>\n",
       "    </tr>\n",
       "    <tr>\n",
       "      <th>996</th>\n",
       "      <td>997</td>\n",
       "      <td>03/17/2021</td>\n",
       "      <td>Ame</td>\n",
       "      <td>Rastall</td>\n",
       "      <td>arastallro@toplist.cz</td>\n",
       "      <td>Female</td>\n",
       "      <td>188.219.12.109</td>\n",
       "      <td>NaN</td>\n",
       "      <td>4.59</td>\n",
       "      <td>20.0</td>\n",
       "    </tr>\n",
       "    <tr>\n",
       "      <th>997</th>\n",
       "      <td>998</td>\n",
       "      <td>03/13/2021</td>\n",
       "      <td>Betty</td>\n",
       "      <td>Stickels</td>\n",
       "      <td>bstickelsrp@cloudflare.com</td>\n",
       "      <td>Male</td>\n",
       "      <td>199.80.60.87</td>\n",
       "      <td>United States</td>\n",
       "      <td>7.54</td>\n",
       "      <td>20.0</td>\n",
       "    </tr>\n",
       "    <tr>\n",
       "      <th>999</th>\n",
       "      <td>1000</td>\n",
       "      <td>03/23/2021</td>\n",
       "      <td>Rochelle</td>\n",
       "      <td>Pringuer</td>\n",
       "      <td>rpringuerrr@house.gov</td>\n",
       "      <td>NaN</td>\n",
       "      <td>170.193.249.83</td>\n",
       "      <td>Canada</td>\n",
       "      <td>8.01</td>\n",
       "      <td>20.0</td>\n",
       "    </tr>\n",
       "  </tbody>\n",
       "</table>\n",
       "<p>654 rows × 10 columns</p>\n",
       "</div>"
      ],
      "text/plain": [
       "       id        date first_name   last_name                       email  \\\n",
       "2       3  03/17/2021        Erl  Kilminster       ekilminster2@etsy.com   \n",
       "3       4  03/19/2021      Grata      Brantl            gbrantl3@umn.edu   \n",
       "4       5  03/24/2021      Kanya     Beasant         kbeasant4@jigsy.com   \n",
       "7       8  03/08/2021       Codi     Feasley            cfeasley7@ed.gov   \n",
       "8       9  03/09/2021     Waylon    Heersema       wheersema8@tumblr.com   \n",
       "..    ...         ...        ...         ...                         ...   \n",
       "991   992  03/07/2021      Elihu       Crush       ecrushrj@berkeley.edu   \n",
       "994   995  03/17/2021   Carolyne    Bruntjen   cbruntjenrm@reference.com   \n",
       "996   997  03/17/2021        Ame     Rastall       arastallro@toplist.cz   \n",
       "997   998  03/13/2021      Betty    Stickels  bstickelsrp@cloudflare.com   \n",
       "999  1000  03/23/2021   Rochelle    Pringuer       rpringuerrr@house.gov   \n",
       "\n",
       "     gender       ip_address        country  price_paid   tax  \n",
       "2      Male    213.8.101.145  United States        3.73  20.0  \n",
       "3    Female    5.140.237.101  United States        3.70  20.0  \n",
       "4      Male  106.252.162.233        Morocco        9.24  20.0  \n",
       "7      Male   26.190.191.249         France        3.01  20.0  \n",
       "8      Male   63.242.174.112         Canada        3.70  20.0  \n",
       "..      ...              ...            ...         ...   ...  \n",
       "991    Male    174.38.173.53        Morocco        5.05  20.0  \n",
       "994  Female      7.29.168.78         France        5.68  20.0  \n",
       "996  Female   188.219.12.109            NaN        4.59  20.0  \n",
       "997    Male     199.80.60.87  United States        7.54  20.0  \n",
       "999     NaN   170.193.249.83         Canada        8.01  20.0  \n",
       "\n",
       "[654 rows x 10 columns]"
      ]
     },
     "execution_count": 48,
     "metadata": {},
     "output_type": "execute_result"
    }
   ],
   "source": [
    "copy['tax'].fillna(0) # remplacer les NAN par une valeur par défaut: NAN -> not a number\n",
    "copy['tax'].ffill() # forward fill: appliquer les valeurs des cellules suivantes\n",
    "copy['tax'].bfill() # back fill: appliquer les valeurs des cellules précedentes\n",
    "copy.dropna() # supprimer toutes les lignes contenant une valeur nulle - concerne toutes les colonnes\n",
    "copy.dropna(subset=['tax']) # cibler une colonne particulière"
   ]
  },
  {
   "cell_type": "code",
   "execution_count": 49,
   "metadata": {},
   "outputs": [
    {
     "data": {
      "text/plain": [
       "id             0\n",
       "date           0\n",
       "first_name     0\n",
       "last_name      0\n",
       "email          0\n",
       "gender        69\n",
       "ip_address     0\n",
       "country       44\n",
       "price_paid     0\n",
       "tax            0\n",
       "dtype: int64"
      ]
     },
     "execution_count": 49,
     "metadata": {},
     "output_type": "execute_result"
    }
   ],
   "source": [
    "copy['tax'] = copy['tax'].fillna(0) # dans la colonne tax: remplacer les valeurs  nulles par 0\n",
    "copy.isnull().sum()"
   ]
  },
  {
   "cell_type": "code",
   "execution_count": 50,
   "metadata": {},
   "outputs": [
    {
     "data": {
      "text/html": [
       "<div>\n",
       "<style scoped>\n",
       "    .dataframe tbody tr th:only-of-type {\n",
       "        vertical-align: middle;\n",
       "    }\n",
       "\n",
       "    .dataframe tbody tr th {\n",
       "        vertical-align: top;\n",
       "    }\n",
       "\n",
       "    .dataframe thead th {\n",
       "        text-align: right;\n",
       "    }\n",
       "</style>\n",
       "<table border=\"1\" class=\"dataframe\">\n",
       "  <thead>\n",
       "    <tr style=\"text-align: right;\">\n",
       "      <th></th>\n",
       "      <th>id</th>\n",
       "      <th>date</th>\n",
       "      <th>first_name</th>\n",
       "      <th>last_name</th>\n",
       "      <th>email</th>\n",
       "      <th>gender</th>\n",
       "      <th>ip_address</th>\n",
       "      <th>country</th>\n",
       "      <th>price_paid</th>\n",
       "      <th>tax</th>\n",
       "      <th>price_ht</th>\n",
       "    </tr>\n",
       "  </thead>\n",
       "  <tbody>\n",
       "    <tr>\n",
       "      <th>0</th>\n",
       "      <td>1</td>\n",
       "      <td>03/28/2021</td>\n",
       "      <td>Marylin</td>\n",
       "      <td>Alders</td>\n",
       "      <td>malders0@shop-pro.jp</td>\n",
       "      <td>Male</td>\n",
       "      <td>160.119.8.119</td>\n",
       "      <td>Canada</td>\n",
       "      <td>5.36</td>\n",
       "      <td>0.0</td>\n",
       "      <td>5.360</td>\n",
       "    </tr>\n",
       "    <tr>\n",
       "      <th>1</th>\n",
       "      <td>2</td>\n",
       "      <td>03/19/2021</td>\n",
       "      <td>Hinda</td>\n",
       "      <td>Harridge</td>\n",
       "      <td>hharridge1@gnu.org</td>\n",
       "      <td>Female</td>\n",
       "      <td>210.51.172.132</td>\n",
       "      <td>Canada</td>\n",
       "      <td>8.32</td>\n",
       "      <td>0.0</td>\n",
       "      <td>8.320</td>\n",
       "    </tr>\n",
       "    <tr>\n",
       "      <th>2</th>\n",
       "      <td>3</td>\n",
       "      <td>03/17/2021</td>\n",
       "      <td>Erl</td>\n",
       "      <td>Kilminster</td>\n",
       "      <td>ekilminster2@etsy.com</td>\n",
       "      <td>Male</td>\n",
       "      <td>213.8.101.145</td>\n",
       "      <td>United States</td>\n",
       "      <td>3.73</td>\n",
       "      <td>20.0</td>\n",
       "      <td>2.984</td>\n",
       "    </tr>\n",
       "    <tr>\n",
       "      <th>3</th>\n",
       "      <td>4</td>\n",
       "      <td>03/19/2021</td>\n",
       "      <td>Grata</td>\n",
       "      <td>Brantl</td>\n",
       "      <td>gbrantl3@umn.edu</td>\n",
       "      <td>Female</td>\n",
       "      <td>5.140.237.101</td>\n",
       "      <td>United States</td>\n",
       "      <td>3.70</td>\n",
       "      <td>20.0</td>\n",
       "      <td>2.960</td>\n",
       "    </tr>\n",
       "    <tr>\n",
       "      <th>4</th>\n",
       "      <td>5</td>\n",
       "      <td>03/24/2021</td>\n",
       "      <td>Kanya</td>\n",
       "      <td>Beasant</td>\n",
       "      <td>kbeasant4@jigsy.com</td>\n",
       "      <td>Male</td>\n",
       "      <td>106.252.162.233</td>\n",
       "      <td>Morocco</td>\n",
       "      <td>9.24</td>\n",
       "      <td>20.0</td>\n",
       "      <td>7.392</td>\n",
       "    </tr>\n",
       "  </tbody>\n",
       "</table>\n",
       "</div>"
      ],
      "text/plain": [
       "   id        date first_name   last_name                  email  gender  \\\n",
       "0   1  03/28/2021    Marylin      Alders   malders0@shop-pro.jp    Male   \n",
       "1   2  03/19/2021      Hinda    Harridge     hharridge1@gnu.org  Female   \n",
       "2   3  03/17/2021        Erl  Kilminster  ekilminster2@etsy.com    Male   \n",
       "3   4  03/19/2021      Grata      Brantl       gbrantl3@umn.edu  Female   \n",
       "4   5  03/24/2021      Kanya     Beasant    kbeasant4@jigsy.com    Male   \n",
       "\n",
       "        ip_address        country  price_paid   tax  price_ht  \n",
       "0    160.119.8.119         Canada        5.36   0.0     5.360  \n",
       "1   210.51.172.132         Canada        8.32   0.0     8.320  \n",
       "2    213.8.101.145  United States        3.73  20.0     2.984  \n",
       "3    5.140.237.101  United States        3.70  20.0     2.960  \n",
       "4  106.252.162.233        Morocco        9.24  20.0     7.392  "
      ]
     },
     "execution_count": 50,
     "metadata": {},
     "output_type": "execute_result"
    }
   ],
   "source": [
    "# Ajouter une colonne\n",
    "copy['price_ht'] = copy['price_paid'] * (1 - copy['tax'] / 100)\n",
    "copy.head()"
   ]
  },
  {
   "cell_type": "code",
   "execution_count": 51,
   "metadata": {},
   "outputs": [
    {
     "data": {
      "text/html": [
       "<div>\n",
       "<style scoped>\n",
       "    .dataframe tbody tr th:only-of-type {\n",
       "        vertical-align: middle;\n",
       "    }\n",
       "\n",
       "    .dataframe tbody tr th {\n",
       "        vertical-align: top;\n",
       "    }\n",
       "\n",
       "    .dataframe thead th {\n",
       "        text-align: right;\n",
       "    }\n",
       "</style>\n",
       "<table border=\"1\" class=\"dataframe\">\n",
       "  <thead>\n",
       "    <tr style=\"text-align: right;\">\n",
       "      <th></th>\n",
       "      <th>id</th>\n",
       "      <th>date</th>\n",
       "      <th>first_name</th>\n",
       "      <th>last_name</th>\n",
       "      <th>email</th>\n",
       "      <th>gender</th>\n",
       "      <th>country</th>\n",
       "      <th>price_paid</th>\n",
       "      <th>tax</th>\n",
       "      <th>price_ht</th>\n",
       "    </tr>\n",
       "  </thead>\n",
       "  <tbody>\n",
       "    <tr>\n",
       "      <th>0</th>\n",
       "      <td>1</td>\n",
       "      <td>03/28/2021</td>\n",
       "      <td>Marylin</td>\n",
       "      <td>Alders</td>\n",
       "      <td>malders0@shop-pro.jp</td>\n",
       "      <td>Male</td>\n",
       "      <td>Canada</td>\n",
       "      <td>5.36</td>\n",
       "      <td>0.0</td>\n",
       "      <td>5.360</td>\n",
       "    </tr>\n",
       "    <tr>\n",
       "      <th>1</th>\n",
       "      <td>2</td>\n",
       "      <td>03/19/2021</td>\n",
       "      <td>Hinda</td>\n",
       "      <td>Harridge</td>\n",
       "      <td>hharridge1@gnu.org</td>\n",
       "      <td>Female</td>\n",
       "      <td>Canada</td>\n",
       "      <td>8.32</td>\n",
       "      <td>0.0</td>\n",
       "      <td>8.320</td>\n",
       "    </tr>\n",
       "    <tr>\n",
       "      <th>2</th>\n",
       "      <td>3</td>\n",
       "      <td>03/17/2021</td>\n",
       "      <td>Erl</td>\n",
       "      <td>Kilminster</td>\n",
       "      <td>ekilminster2@etsy.com</td>\n",
       "      <td>Male</td>\n",
       "      <td>United States</td>\n",
       "      <td>3.73</td>\n",
       "      <td>20.0</td>\n",
       "      <td>2.984</td>\n",
       "    </tr>\n",
       "    <tr>\n",
       "      <th>3</th>\n",
       "      <td>4</td>\n",
       "      <td>03/19/2021</td>\n",
       "      <td>Grata</td>\n",
       "      <td>Brantl</td>\n",
       "      <td>gbrantl3@umn.edu</td>\n",
       "      <td>Female</td>\n",
       "      <td>United States</td>\n",
       "      <td>3.70</td>\n",
       "      <td>20.0</td>\n",
       "      <td>2.960</td>\n",
       "    </tr>\n",
       "    <tr>\n",
       "      <th>4</th>\n",
       "      <td>5</td>\n",
       "      <td>03/24/2021</td>\n",
       "      <td>Kanya</td>\n",
       "      <td>Beasant</td>\n",
       "      <td>kbeasant4@jigsy.com</td>\n",
       "      <td>Male</td>\n",
       "      <td>Morocco</td>\n",
       "      <td>9.24</td>\n",
       "      <td>20.0</td>\n",
       "      <td>7.392</td>\n",
       "    </tr>\n",
       "  </tbody>\n",
       "</table>\n",
       "</div>"
      ],
      "text/plain": [
       "   id        date first_name   last_name                  email  gender  \\\n",
       "0   1  03/28/2021    Marylin      Alders   malders0@shop-pro.jp    Male   \n",
       "1   2  03/19/2021      Hinda    Harridge     hharridge1@gnu.org  Female   \n",
       "2   3  03/17/2021        Erl  Kilminster  ekilminster2@etsy.com    Male   \n",
       "3   4  03/19/2021      Grata      Brantl       gbrantl3@umn.edu  Female   \n",
       "4   5  03/24/2021      Kanya     Beasant    kbeasant4@jigsy.com    Male   \n",
       "\n",
       "         country  price_paid   tax  price_ht  \n",
       "0         Canada        5.36   0.0     5.360  \n",
       "1         Canada        8.32   0.0     8.320  \n",
       "2  United States        3.73  20.0     2.984  \n",
       "3  United States        3.70  20.0     2.960  \n",
       "4        Morocco        9.24  20.0     7.392  "
      ]
     },
     "execution_count": 51,
     "metadata": {},
     "output_type": "execute_result"
    }
   ],
   "source": [
    "# suppression d'une colonne\n",
    "# axis = 0 -> pointe vers lignes\n",
    "# axis = 1 -> pointe vers les colonnes\n",
    "copy = copy.drop('ip_address', axis = 1)\n",
    "copy.head()\n"
   ]
  },
  {
   "cell_type": "code",
   "execution_count": 52,
   "metadata": {},
   "outputs": [
    {
     "data": {
      "text/html": [
       "<div>\n",
       "<style scoped>\n",
       "    .dataframe tbody tr th:only-of-type {\n",
       "        vertical-align: middle;\n",
       "    }\n",
       "\n",
       "    .dataframe tbody tr th {\n",
       "        vertical-align: top;\n",
       "    }\n",
       "\n",
       "    .dataframe thead th {\n",
       "        text-align: right;\n",
       "    }\n",
       "</style>\n",
       "<table border=\"1\" class=\"dataframe\">\n",
       "  <thead>\n",
       "    <tr style=\"text-align: right;\">\n",
       "      <th></th>\n",
       "      <th>id</th>\n",
       "      <th>date</th>\n",
       "      <th>first_name</th>\n",
       "      <th>last_name</th>\n",
       "      <th>email</th>\n",
       "      <th>gender</th>\n",
       "      <th>country</th>\n",
       "      <th>price_paid</th>\n",
       "      <th>tax</th>\n",
       "      <th>price_ht</th>\n",
       "    </tr>\n",
       "  </thead>\n",
       "  <tbody>\n",
       "    <tr>\n",
       "      <th>0</th>\n",
       "      <td>1</td>\n",
       "      <td>03/28/2021</td>\n",
       "      <td>Marylin</td>\n",
       "      <td>Alders</td>\n",
       "      <td>malders0@shop-pro.jp</td>\n",
       "      <td>M</td>\n",
       "      <td>Canada</td>\n",
       "      <td>5.36</td>\n",
       "      <td>0.0</td>\n",
       "      <td>5.360</td>\n",
       "    </tr>\n",
       "    <tr>\n",
       "      <th>1</th>\n",
       "      <td>2</td>\n",
       "      <td>03/19/2021</td>\n",
       "      <td>Hinda</td>\n",
       "      <td>Harridge</td>\n",
       "      <td>hharridge1@gnu.org</td>\n",
       "      <td>F</td>\n",
       "      <td>Canada</td>\n",
       "      <td>8.32</td>\n",
       "      <td>0.0</td>\n",
       "      <td>8.320</td>\n",
       "    </tr>\n",
       "    <tr>\n",
       "      <th>2</th>\n",
       "      <td>3</td>\n",
       "      <td>03/17/2021</td>\n",
       "      <td>Erl</td>\n",
       "      <td>Kilminster</td>\n",
       "      <td>ekilminster2@etsy.com</td>\n",
       "      <td>M</td>\n",
       "      <td>United States</td>\n",
       "      <td>3.73</td>\n",
       "      <td>20.0</td>\n",
       "      <td>2.984</td>\n",
       "    </tr>\n",
       "    <tr>\n",
       "      <th>3</th>\n",
       "      <td>4</td>\n",
       "      <td>03/19/2021</td>\n",
       "      <td>Grata</td>\n",
       "      <td>Brantl</td>\n",
       "      <td>gbrantl3@umn.edu</td>\n",
       "      <td>F</td>\n",
       "      <td>United States</td>\n",
       "      <td>3.70</td>\n",
       "      <td>20.0</td>\n",
       "      <td>2.960</td>\n",
       "    </tr>\n",
       "    <tr>\n",
       "      <th>4</th>\n",
       "      <td>5</td>\n",
       "      <td>03/24/2021</td>\n",
       "      <td>Kanya</td>\n",
       "      <td>Beasant</td>\n",
       "      <td>kbeasant4@jigsy.com</td>\n",
       "      <td>M</td>\n",
       "      <td>Morocco</td>\n",
       "      <td>9.24</td>\n",
       "      <td>20.0</td>\n",
       "      <td>7.392</td>\n",
       "    </tr>\n",
       "  </tbody>\n",
       "</table>\n",
       "</div>"
      ],
      "text/plain": [
       "   id        date first_name   last_name                  email gender  \\\n",
       "0   1  03/28/2021    Marylin      Alders   malders0@shop-pro.jp      M   \n",
       "1   2  03/19/2021      Hinda    Harridge     hharridge1@gnu.org      F   \n",
       "2   3  03/17/2021        Erl  Kilminster  ekilminster2@etsy.com      M   \n",
       "3   4  03/19/2021      Grata      Brantl       gbrantl3@umn.edu      F   \n",
       "4   5  03/24/2021      Kanya     Beasant    kbeasant4@jigsy.com      M   \n",
       "\n",
       "         country  price_paid   tax  price_ht  \n",
       "0         Canada        5.36   0.0     5.360  \n",
       "1         Canada        8.32   0.0     8.320  \n",
       "2  United States        3.73  20.0     2.984  \n",
       "3  United States        3.70  20.0     2.960  \n",
       "4        Morocco        9.24  20.0     7.392  "
      ]
     },
     "execution_count": 52,
     "metadata": {},
     "output_type": "execute_result"
    }
   ],
   "source": [
    "# fonction map: permet de modifier le contenu des cellules\n",
    "genres = {\n",
    "    'Male' : 'M',\n",
    "    'Female' : 'F'\n",
    "}\n",
    "\n",
    "copy['gender'] = copy['gender'].map(genres)\n",
    "copy.head()"
   ]
  },
  {
   "cell_type": "code",
   "execution_count": 53,
   "metadata": {},
   "outputs": [
    {
     "data": {
      "text/html": [
       "<div>\n",
       "<style scoped>\n",
       "    .dataframe tbody tr th:only-of-type {\n",
       "        vertical-align: middle;\n",
       "    }\n",
       "\n",
       "    .dataframe tbody tr th {\n",
       "        vertical-align: top;\n",
       "    }\n",
       "\n",
       "    .dataframe thead th {\n",
       "        text-align: right;\n",
       "    }\n",
       "</style>\n",
       "<table border=\"1\" class=\"dataframe\">\n",
       "  <thead>\n",
       "    <tr style=\"text-align: right;\">\n",
       "      <th></th>\n",
       "      <th>price_paid</th>\n",
       "      <th>tax</th>\n",
       "    </tr>\n",
       "    <tr>\n",
       "      <th>country</th>\n",
       "      <th></th>\n",
       "      <th></th>\n",
       "    </tr>\n",
       "  </thead>\n",
       "  <tbody>\n",
       "    <tr>\n",
       "      <th>Canada</th>\n",
       "      <td>1017.45</td>\n",
       "      <td>2160.0</td>\n",
       "    </tr>\n",
       "    <tr>\n",
       "      <th>France</th>\n",
       "      <td>2619.61</td>\n",
       "      <td>5100.0</td>\n",
       "    </tr>\n",
       "    <tr>\n",
       "      <th>Morocco</th>\n",
       "      <td>362.97</td>\n",
       "      <td>780.0</td>\n",
       "    </tr>\n",
       "    <tr>\n",
       "      <th>United States</th>\n",
       "      <td>2183.67</td>\n",
       "      <td>4520.0</td>\n",
       "    </tr>\n",
       "  </tbody>\n",
       "</table>\n",
       "</div>"
      ],
      "text/plain": [
       "               price_paid     tax\n",
       "country                          \n",
       "Canada            1017.45  2160.0\n",
       "France            2619.61  5100.0\n",
       "Morocco            362.97   780.0\n",
       "United States     2183.67  4520.0"
      ]
     },
     "execution_count": 53,
     "metadata": {},
     "output_type": "execute_result"
    }
   ],
   "source": [
    "# GroupBy: opérations sur les données\n",
    "copy.groupby('country')[['price_paid', 'tax']].sum()"
   ]
  },
  {
   "cell_type": "code",
   "execution_count": 54,
   "metadata": {},
   "outputs": [
    {
     "data": {
      "text/html": [
       "<div>\n",
       "<style scoped>\n",
       "    .dataframe tbody tr th:only-of-type {\n",
       "        vertical-align: middle;\n",
       "    }\n",
       "\n",
       "    .dataframe tbody tr th {\n",
       "        vertical-align: top;\n",
       "    }\n",
       "\n",
       "    .dataframe thead th {\n",
       "        text-align: right;\n",
       "    }\n",
       "</style>\n",
       "<table border=\"1\" class=\"dataframe\">\n",
       "  <thead>\n",
       "    <tr style=\"text-align: right;\">\n",
       "      <th></th>\n",
       "      <th>price_paid</th>\n",
       "      <th>tax</th>\n",
       "    </tr>\n",
       "    <tr>\n",
       "      <th>country</th>\n",
       "      <th></th>\n",
       "      <th></th>\n",
       "    </tr>\n",
       "  </thead>\n",
       "  <tbody>\n",
       "    <tr>\n",
       "      <th>Canada</th>\n",
       "      <td>6.319565</td>\n",
       "      <td>13.416149</td>\n",
       "    </tr>\n",
       "    <tr>\n",
       "      <th>France</th>\n",
       "      <td>6.420613</td>\n",
       "      <td>12.500000</td>\n",
       "    </tr>\n",
       "    <tr>\n",
       "      <th>Morocco</th>\n",
       "      <td>6.721667</td>\n",
       "      <td>14.444444</td>\n",
       "    </tr>\n",
       "    <tr>\n",
       "      <th>United States</th>\n",
       "      <td>6.557568</td>\n",
       "      <td>13.573574</td>\n",
       "    </tr>\n",
       "  </tbody>\n",
       "</table>\n",
       "</div>"
      ],
      "text/plain": [
       "               price_paid        tax\n",
       "country                             \n",
       "Canada           6.319565  13.416149\n",
       "France           6.420613  12.500000\n",
       "Morocco          6.721667  14.444444\n",
       "United States    6.557568  13.573574"
      ]
     },
     "execution_count": 54,
     "metadata": {},
     "output_type": "execute_result"
    }
   ],
   "source": [
    "copy.groupby('country')[['price_paid', 'tax']].mean()"
   ]
  },
  {
   "cell_type": "code",
   "execution_count": 55,
   "metadata": {},
   "outputs": [
    {
     "data": {
      "text/html": [
       "<div>\n",
       "<style scoped>\n",
       "    .dataframe tbody tr th:only-of-type {\n",
       "        vertical-align: middle;\n",
       "    }\n",
       "\n",
       "    .dataframe tbody tr th {\n",
       "        vertical-align: top;\n",
       "    }\n",
       "\n",
       "    .dataframe thead th {\n",
       "        text-align: right;\n",
       "    }\n",
       "</style>\n",
       "<table border=\"1\" class=\"dataframe\">\n",
       "  <thead>\n",
       "    <tr style=\"text-align: right;\">\n",
       "      <th></th>\n",
       "      <th>price_paid</th>\n",
       "      <th>tax</th>\n",
       "    </tr>\n",
       "    <tr>\n",
       "      <th>gender</th>\n",
       "      <th></th>\n",
       "      <th></th>\n",
       "    </tr>\n",
       "  </thead>\n",
       "  <tbody>\n",
       "    <tr>\n",
       "      <th>F</th>\n",
       "      <td>3165.26</td>\n",
       "      <td>6460.0</td>\n",
       "    </tr>\n",
       "    <tr>\n",
       "      <th>M</th>\n",
       "      <td>2833.61</td>\n",
       "      <td>5780.0</td>\n",
       "    </tr>\n",
       "  </tbody>\n",
       "</table>\n",
       "</div>"
      ],
      "text/plain": [
       "        price_paid     tax\n",
       "gender                    \n",
       "F          3165.26  6460.0\n",
       "M          2833.61  5780.0"
      ]
     },
     "execution_count": 55,
     "metadata": {},
     "output_type": "execute_result"
    }
   ],
   "source": [
    "copy.groupby('gender')[['price_paid', 'tax']].sum()"
   ]
  },
  {
   "cell_type": "code",
   "execution_count": 56,
   "metadata": {},
   "outputs": [
    {
     "data": {
      "text/html": [
       "<div>\n",
       "<style scoped>\n",
       "    .dataframe tbody tr th:only-of-type {\n",
       "        vertical-align: middle;\n",
       "    }\n",
       "\n",
       "    .dataframe tbody tr th {\n",
       "        vertical-align: top;\n",
       "    }\n",
       "\n",
       "    .dataframe thead th {\n",
       "        text-align: right;\n",
       "    }\n",
       "</style>\n",
       "<table border=\"1\" class=\"dataframe\">\n",
       "  <thead>\n",
       "    <tr style=\"text-align: right;\">\n",
       "      <th></th>\n",
       "      <th></th>\n",
       "      <th>price_paid</th>\n",
       "      <th>tax</th>\n",
       "    </tr>\n",
       "    <tr>\n",
       "      <th>country</th>\n",
       "      <th>gender</th>\n",
       "      <th></th>\n",
       "      <th></th>\n",
       "    </tr>\n",
       "  </thead>\n",
       "  <tbody>\n",
       "    <tr>\n",
       "      <th rowspan=\"2\" valign=\"top\">Canada</th>\n",
       "      <th>F</th>\n",
       "      <td>475.03</td>\n",
       "      <td>1000.0</td>\n",
       "    </tr>\n",
       "    <tr>\n",
       "      <th>M</th>\n",
       "      <td>458.81</td>\n",
       "      <td>1020.0</td>\n",
       "    </tr>\n",
       "    <tr>\n",
       "      <th rowspan=\"2\" valign=\"top\">France</th>\n",
       "      <th>F</th>\n",
       "      <td>1263.72</td>\n",
       "      <td>2400.0</td>\n",
       "    </tr>\n",
       "    <tr>\n",
       "      <th>M</th>\n",
       "      <td>1176.31</td>\n",
       "      <td>2360.0</td>\n",
       "    </tr>\n",
       "    <tr>\n",
       "      <th rowspan=\"2\" valign=\"top\">Morocco</th>\n",
       "      <th>F</th>\n",
       "      <td>189.67</td>\n",
       "      <td>460.0</td>\n",
       "    </tr>\n",
       "    <tr>\n",
       "      <th>M</th>\n",
       "      <td>141.38</td>\n",
       "      <td>280.0</td>\n",
       "    </tr>\n",
       "    <tr>\n",
       "      <th rowspan=\"2\" valign=\"top\">United States</th>\n",
       "      <th>F</th>\n",
       "      <td>1094.31</td>\n",
       "      <td>2300.0</td>\n",
       "    </tr>\n",
       "    <tr>\n",
       "      <th>M</th>\n",
       "      <td>960.84</td>\n",
       "      <td>1940.0</td>\n",
       "    </tr>\n",
       "  </tbody>\n",
       "</table>\n",
       "</div>"
      ],
      "text/plain": [
       "                      price_paid     tax\n",
       "country       gender                    \n",
       "Canada        F           475.03  1000.0\n",
       "              M           458.81  1020.0\n",
       "France        F          1263.72  2400.0\n",
       "              M          1176.31  2360.0\n",
       "Morocco       F           189.67   460.0\n",
       "              M           141.38   280.0\n",
       "United States F          1094.31  2300.0\n",
       "              M           960.84  1940.0"
      ]
     },
     "execution_count": 56,
     "metadata": {},
     "output_type": "execute_result"
    }
   ],
   "source": [
    "copy.groupby(['country','gender'])[['price_paid', 'tax']].sum()"
   ]
  },
  {
   "cell_type": "code",
   "execution_count": 57,
   "metadata": {},
   "outputs": [
    {
     "name": "stdout",
     "output_type": "stream",
     "text": [
      "25\n"
     ]
    }
   ],
   "source": [
    "# Importer des modules de fonctions\n",
    "import myfunctions\n",
    "\n",
    "print(myfunctions.somme(10,15))"
   ]
  },
  {
   "cell_type": "code",
   "execution_count": 58,
   "metadata": {},
   "outputs": [],
   "source": [
    "# Générer des graphiques avec le modue externe plotly\n",
    "# pip install plotly\n",
    "# pip install nbformat\n",
    "# cliquez sur restart\n",
    "import plotly.express as px"
   ]
  },
  {
   "cell_type": "code",
   "execution_count": 59,
   "metadata": {},
   "outputs": [
    {
     "data": {
      "application/vnd.plotly.v1+json": {
       "config": {
        "plotlyServerURL": "https://plot.ly"
       },
       "data": [
        {
         "domain": {
          "x": [
           0,
           1
          ],
          "y": [
           0,
           1
          ]
         },
         "hovertemplate": "country=%{label}<br>price_paid=%{value}<extra></extra>",
         "labels": [
          "Canada",
          "Canada",
          "United States",
          "United States",
          "Morocco",
          "United States",
          "Canada",
          "France",
          "Canada",
          "France",
          "Canada",
          "United States",
          "Canada",
          "France",
          "United States",
          "United States",
          "United States",
          "United States",
          "France",
          "Canada",
          "France",
          "Canada",
          "Canada",
          "Canada",
          "Canada",
          "United States",
          "United States",
          "United States",
          null,
          "United States",
          "Morocco",
          "France",
          "United States",
          "United States",
          "France",
          "France",
          "France",
          "United States",
          "Canada",
          "Canada",
          "United States",
          "France",
          "Morocco",
          "United States",
          "United States",
          "United States",
          "France",
          "United States",
          "United States",
          "France",
          "France",
          "France",
          "Canada",
          "United States",
          "France",
          "France",
          "Canada",
          "France",
          "United States",
          "United States",
          "France",
          "United States",
          "United States",
          "Canada",
          "Canada",
          "France",
          "Canada",
          "United States",
          "France",
          "Canada",
          "France",
          "France",
          "France",
          "United States",
          "United States",
          "Morocco",
          "United States",
          "France",
          "United States",
          "Canada",
          "United States",
          "Canada",
          "Canada",
          "France",
          "United States",
          "Canada",
          "Canada",
          "United States",
          "Morocco",
          null,
          "France",
          "United States",
          "France",
          "France",
          "United States",
          "France",
          "United States",
          "France",
          "Canada",
          "Canada",
          "France",
          "United States",
          "United States",
          "United States",
          "Morocco",
          "United States",
          "France",
          "France",
          "France",
          "France",
          "Canada",
          "United States",
          "United States",
          "France",
          "France",
          "United States",
          "France",
          "United States",
          "United States",
          "Morocco",
          "United States",
          "United States",
          "United States",
          "France",
          "France",
          "United States",
          "France",
          "United States",
          "France",
          "United States",
          "France",
          null,
          "Canada",
          "Canada",
          "France",
          "United States",
          "United States",
          "France",
          "United States",
          "France",
          "France",
          "France",
          "France",
          "France",
          "United States",
          "United States",
          "United States",
          null,
          "France",
          "France",
          "France",
          "United States",
          "France",
          "Canada",
          "Canada",
          "United States",
          "France",
          "Canada",
          "Morocco",
          "France",
          "Canada",
          "Canada",
          "United States",
          "France",
          "Canada",
          "France",
          "United States",
          null,
          "Morocco",
          "Canada",
          "United States",
          "Canada",
          "France",
          "United States",
          "United States",
          "Canada",
          "Canada",
          "United States",
          "Canada",
          "France",
          null,
          "United States",
          "Canada",
          "United States",
          "France",
          "France",
          null,
          "France",
          "Canada",
          "Canada",
          "United States",
          "Morocco",
          "United States",
          "Canada",
          "France",
          "Morocco",
          "Canada",
          "United States",
          "France",
          "France",
          "United States",
          "France",
          "United States",
          "France",
          "France",
          "Morocco",
          "United States",
          "United States",
          "France",
          "France",
          null,
          "France",
          "United States",
          "United States",
          "France",
          "Canada",
          "France",
          "United States",
          "Canada",
          "France",
          null,
          "United States",
          "Canada",
          "United States",
          "United States",
          "Canada",
          "United States",
          "France",
          "France",
          "United States",
          "United States",
          "Canada",
          "Canada",
          "United States",
          "Canada",
          "France",
          null,
          "Canada",
          "United States",
          "Canada",
          "United States",
          null,
          "France",
          "France",
          "United States",
          "France",
          "France",
          "United States",
          "France",
          null,
          "France",
          "France",
          "Canada",
          "United States",
          "France",
          "United States",
          "Canada",
          "Canada",
          null,
          "Canada",
          "France",
          "Canada",
          "Canada",
          "France",
          null,
          "France",
          "United States",
          "France",
          null,
          "United States",
          "France",
          null,
          "France",
          "France",
          "France",
          "France",
          "France",
          "United States",
          "United States",
          "France",
          "France",
          "United States",
          "United States",
          null,
          "United States",
          "France",
          "Canada",
          "United States",
          null,
          "Morocco",
          "United States",
          "United States",
          "France",
          "Canada",
          "France",
          "France",
          "France",
          "France",
          "Canada",
          "France",
          "United States",
          "Morocco",
          "Canada",
          "Canada",
          "Morocco",
          "United States",
          "France",
          "France",
          "France",
          "United States",
          "France",
          "United States",
          "Canada",
          "United States",
          "France",
          "United States",
          "Morocco",
          "Canada",
          "France",
          "United States",
          "United States",
          "France",
          "France",
          "France",
          "France",
          "France",
          null,
          "Canada",
          "France",
          "United States",
          "United States",
          null,
          "France",
          "United States",
          "United States",
          "France",
          "France",
          "Morocco",
          "Canada",
          "France",
          "France",
          "France",
          "France",
          "France",
          "France",
          "Canada",
          "United States",
          "France",
          "Canada",
          "Morocco",
          "United States",
          "United States",
          "France",
          "Canada",
          "United States",
          "Canada",
          "France",
          "France",
          null,
          "United States",
          "France",
          "Canada",
          "Morocco",
          "United States",
          "United States",
          "United States",
          "United States",
          "France",
          "Canada",
          "United States",
          "France",
          "France",
          "United States",
          "United States",
          "France",
          "Morocco",
          null,
          "United States",
          "France",
          "Morocco",
          "United States",
          "France",
          "France",
          "Canada",
          "United States",
          "United States",
          "Morocco",
          "United States",
          "France",
          "France",
          "United States",
          "France",
          "France",
          null,
          "France",
          "United States",
          "United States",
          "United States",
          "Morocco",
          "France",
          "France",
          "United States",
          "France",
          "France",
          "France",
          "United States",
          "France",
          "Morocco",
          "France",
          "Canada",
          "France",
          "France",
          "France",
          "Canada",
          "France",
          "France",
          "Canada",
          "France",
          "France",
          "United States",
          "France",
          "France",
          "France",
          "United States",
          "France",
          "France",
          "United States",
          "Canada",
          "France",
          "Canada",
          "Canada",
          "Canada",
          "Canada",
          "Canada",
          "United States",
          "France",
          "France",
          "United States",
          "France",
          "United States",
          "France",
          "Canada",
          "France",
          null,
          "France",
          "Morocco",
          "United States",
          "France",
          "France",
          "France",
          "United States",
          "Morocco",
          "France",
          "United States",
          "France",
          "United States",
          "France",
          "France",
          null,
          "France",
          "Canada",
          "United States",
          "United States",
          null,
          "United States",
          "France",
          null,
          "United States",
          "United States",
          "France",
          "France",
          "Canada",
          "United States",
          "Canada",
          "Canada",
          "France",
          "France",
          null,
          "United States",
          "United States",
          "United States",
          "United States",
          "France",
          "France",
          "United States",
          "France",
          "United States",
          "France",
          "Canada",
          "United States",
          "France",
          "France",
          "France",
          "France",
          "France",
          "Canada",
          "Canada",
          "Canada",
          "Canada",
          "Morocco",
          "United States",
          "United States",
          "France",
          "Canada",
          "France",
          "United States",
          "Canada",
          "France",
          "France",
          "United States",
          "France",
          "United States",
          "France",
          "United States",
          "France",
          "Canada",
          "United States",
          "United States",
          "France",
          "France",
          "United States",
          "France",
          "United States",
          "Canada",
          "United States",
          "United States",
          "France",
          "France",
          "United States",
          "United States",
          "United States",
          "France",
          "Morocco",
          "United States",
          "United States",
          "France",
          "United States",
          "Morocco",
          "United States",
          "United States",
          "Canada",
          "Morocco",
          "France",
          "France",
          "France",
          "France",
          "France",
          "United States",
          "United States",
          "Canada",
          "Canada",
          "Morocco",
          "Canada",
          "France",
          "United States",
          "France",
          "Canada",
          "Canada",
          "United States",
          "United States",
          "France",
          "France",
          "France",
          "Canada",
          "United States",
          "Canada",
          "Canada",
          "France",
          "France",
          "United States",
          "France",
          "France",
          "France",
          "France",
          "France",
          "United States",
          "France",
          "France",
          "Canada",
          "Canada",
          "United States",
          "Morocco",
          "France",
          "France",
          "United States",
          "United States",
          "France",
          null,
          "France",
          "France",
          null,
          "United States",
          "France",
          "United States",
          "France",
          "France",
          "United States",
          "United States",
          "Morocco",
          "United States",
          "Morocco",
          "France",
          "France",
          "France",
          "France",
          "France",
          "Morocco",
          "United States",
          "United States",
          "United States",
          "France",
          "United States",
          "United States",
          "France",
          "United States",
          "United States",
          "Canada",
          "United States",
          "France",
          "United States",
          "France",
          "Morocco",
          "Canada",
          "France",
          "France",
          "France",
          "France",
          "Morocco",
          "France",
          "Canada",
          "France",
          "United States",
          "France",
          "France",
          "France",
          "United States",
          "United States",
          "United States",
          "United States",
          "France",
          "Canada",
          "France",
          "France",
          "France",
          "France",
          "Morocco",
          "Canada",
          "Canada",
          "Morocco",
          "France",
          "United States",
          "France",
          "United States",
          null,
          "United States",
          "United States",
          "France",
          "France",
          "France",
          "Morocco",
          "France",
          "France",
          "Canada",
          "United States",
          "Canada",
          "France",
          "United States",
          "France",
          "United States",
          "France",
          "United States",
          "United States",
          "United States",
          "France",
          "Canada",
          "United States",
          "United States",
          "United States",
          "United States",
          "United States",
          "France",
          "Morocco",
          "United States",
          "Canada",
          "United States",
          "France",
          "Canada",
          "France",
          "France",
          "United States",
          "France",
          "United States",
          "Canada",
          "France",
          "France",
          "France",
          "France",
          "United States",
          "United States",
          "France",
          "France",
          "France",
          "United States",
          "United States",
          "France",
          "Canada",
          "Canada",
          "France",
          "France",
          null,
          "Canada",
          "Canada",
          "United States",
          "France",
          "United States",
          "France",
          "France",
          "United States",
          "France",
          "United States",
          "Canada",
          "Morocco",
          "France",
          "France",
          "Canada",
          "United States",
          "France",
          "France",
          "France",
          "France",
          "United States",
          "United States",
          "France",
          "France",
          "France",
          "United States",
          "Morocco",
          "France",
          "France",
          "United States",
          "France",
          "United States",
          "France",
          null,
          "France",
          "United States",
          "France",
          "France",
          "United States",
          "Canada",
          "United States",
          "Canada",
          "Canada",
          "France",
          "France",
          "Canada",
          "United States",
          "France",
          "France",
          "Canada",
          "United States",
          "France",
          "Morocco",
          "France",
          "United States",
          "France",
          "France",
          "United States",
          "Canada",
          "United States",
          "Canada",
          "France",
          "United States",
          "United States",
          null,
          "United States",
          "Canada",
          "United States",
          "France",
          "France",
          "France",
          "Canada",
          "France",
          "Canada",
          "France",
          "United States",
          "France",
          "France",
          "France",
          "Morocco",
          "United States",
          "Morocco",
          "Canada",
          "United States",
          "France",
          "United States",
          "France",
          "United States",
          "France",
          "Canada",
          "Canada",
          "Canada",
          "France",
          "United States",
          "United States",
          "France",
          "France",
          "France",
          "United States",
          "United States",
          "France",
          "United States",
          "France",
          "France",
          "United States",
          "United States",
          "United States",
          "France",
          "Canada",
          "Canada",
          "United States",
          "United States",
          "United States",
          "France",
          "Canada",
          "United States",
          "France",
          "United States",
          "France",
          "Canada",
          "France",
          "United States",
          "United States",
          "Canada",
          "France",
          "Morocco",
          "United States",
          null,
          "United States",
          "France",
          "France",
          "France",
          "France",
          "United States",
          null,
          "United States",
          "United States",
          "United States",
          "France",
          "France",
          "France",
          "France",
          "France",
          "United States",
          "France",
          "France",
          "United States",
          "France",
          "United States",
          "France",
          "France",
          "United States",
          "France",
          "France",
          "France",
          "United States",
          null,
          "Canada",
          "France",
          "France",
          "France",
          "Canada",
          "Morocco",
          "France",
          "United States",
          "France",
          "United States",
          "France",
          "France",
          "United States",
          "France",
          "France",
          "Morocco",
          "United States",
          "United States",
          "France",
          "United States",
          "France",
          "France",
          "France",
          "France",
          "Morocco",
          "United States",
          null,
          "France",
          "France",
          "United States",
          "Canada",
          "France",
          "France",
          "United States",
          "France",
          "Canada",
          "Morocco",
          "United States",
          null,
          "France",
          "France",
          "France",
          "United States",
          "United States",
          "United States",
          null,
          "United States",
          "France",
          "France",
          "United States",
          null,
          "Canada",
          "Canada",
          "France",
          "United States",
          "France",
          "France",
          "United States",
          "United States",
          "United States",
          "United States",
          "United States",
          "United States",
          null,
          "United States",
          "Canada",
          "Canada",
          "France",
          "France",
          "United States",
          "France",
          "France",
          "United States",
          "Canada",
          "France",
          "France",
          "France",
          "United States",
          "France",
          "France",
          null,
          "France",
          "France",
          "France",
          "United States",
          "United States",
          "France",
          "United States",
          "United States",
          "France",
          "France",
          "United States",
          "United States",
          "United States",
          "France",
          "France",
          "France",
          "Canada",
          "United States",
          "United States",
          "United States",
          "France",
          "Canada",
          "United States",
          "Canada",
          "United States",
          "United States",
          "United States",
          "France",
          "France",
          "Morocco",
          "Canada",
          "France",
          "France",
          "United States",
          "United States",
          "Morocco",
          "United States",
          "France",
          "United States",
          "United States",
          "United States",
          "France",
          "France",
          "Morocco",
          "France",
          "France",
          "France",
          "France",
          null,
          "United States",
          "United States",
          "Canada"
         ],
         "legendgroup": "",
         "name": "",
         "showlegend": true,
         "type": "pie",
         "values": {
          "bdata": "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",
          "dtype": "f8"
         }
        }
       ],
       "layout": {
        "legend": {
         "tracegroupgap": 0
        },
        "template": {
         "data": {
          "bar": [
           {
            "error_x": {
             "color": "#2a3f5f"
            },
            "error_y": {
             "color": "#2a3f5f"
            },
            "marker": {
             "line": {
              "color": "#E5ECF6",
              "width": 0.5
             },
             "pattern": {
              "fillmode": "overlay",
              "size": 10,
              "solidity": 0.2
             }
            },
            "type": "bar"
           }
          ],
          "barpolar": [
           {
            "marker": {
             "line": {
              "color": "#E5ECF6",
              "width": 0.5
             },
             "pattern": {
              "fillmode": "overlay",
              "size": 10,
              "solidity": 0.2
             }
            },
            "type": "barpolar"
           }
          ],
          "carpet": [
           {
            "aaxis": {
             "endlinecolor": "#2a3f5f",
             "gridcolor": "white",
             "linecolor": "white",
             "minorgridcolor": "white",
             "startlinecolor": "#2a3f5f"
            },
            "baxis": {
             "endlinecolor": "#2a3f5f",
             "gridcolor": "white",
             "linecolor": "white",
             "minorgridcolor": "white",
             "startlinecolor": "#2a3f5f"
            },
            "type": "carpet"
           }
          ],
          "choropleth": [
           {
            "colorbar": {
             "outlinewidth": 0,
             "ticks": ""
            },
            "type": "choropleth"
           }
          ],
          "contour": [
           {
            "colorbar": {
             "outlinewidth": 0,
             "ticks": ""
            },
            "colorscale": [
             [
              0,
              "#0d0887"
             ],
             [
              0.1111111111111111,
              "#46039f"
             ],
             [
              0.2222222222222222,
              "#7201a8"
             ],
             [
              0.3333333333333333,
              "#9c179e"
             ],
             [
              0.4444444444444444,
              "#bd3786"
             ],
             [
              0.5555555555555556,
              "#d8576b"
             ],
             [
              0.6666666666666666,
              "#ed7953"
             ],
             [
              0.7777777777777778,
              "#fb9f3a"
             ],
             [
              0.8888888888888888,
              "#fdca26"
             ],
             [
              1,
              "#f0f921"
             ]
            ],
            "type": "contour"
           }
          ],
          "contourcarpet": [
           {
            "colorbar": {
             "outlinewidth": 0,
             "ticks": ""
            },
            "type": "contourcarpet"
           }
          ],
          "heatmap": [
           {
            "colorbar": {
             "outlinewidth": 0,
             "ticks": ""
            },
            "colorscale": [
             [
              0,
              "#0d0887"
             ],
             [
              0.1111111111111111,
              "#46039f"
             ],
             [
              0.2222222222222222,
              "#7201a8"
             ],
             [
              0.3333333333333333,
              "#9c179e"
             ],
             [
              0.4444444444444444,
              "#bd3786"
             ],
             [
              0.5555555555555556,
              "#d8576b"
             ],
             [
              0.6666666666666666,
              "#ed7953"
             ],
             [
              0.7777777777777778,
              "#fb9f3a"
             ],
             [
              0.8888888888888888,
              "#fdca26"
             ],
             [
              1,
              "#f0f921"
             ]
            ],
            "type": "heatmap"
           }
          ],
          "histogram": [
           {
            "marker": {
             "pattern": {
              "fillmode": "overlay",
              "size": 10,
              "solidity": 0.2
             }
            },
            "type": "histogram"
           }
          ],
          "histogram2d": [
           {
            "colorbar": {
             "outlinewidth": 0,
             "ticks": ""
            },
            "colorscale": [
             [
              0,
              "#0d0887"
             ],
             [
              0.1111111111111111,
              "#46039f"
             ],
             [
              0.2222222222222222,
              "#7201a8"
             ],
             [
              0.3333333333333333,
              "#9c179e"
             ],
             [
              0.4444444444444444,
              "#bd3786"
             ],
             [
              0.5555555555555556,
              "#d8576b"
             ],
             [
              0.6666666666666666,
              "#ed7953"
             ],
             [
              0.7777777777777778,
              "#fb9f3a"
             ],
             [
              0.8888888888888888,
              "#fdca26"
             ],
             [
              1,
              "#f0f921"
             ]
            ],
            "type": "histogram2d"
           }
          ],
          "histogram2dcontour": [
           {
            "colorbar": {
             "outlinewidth": 0,
             "ticks": ""
            },
            "colorscale": [
             [
              0,
              "#0d0887"
             ],
             [
              0.1111111111111111,
              "#46039f"
             ],
             [
              0.2222222222222222,
              "#7201a8"
             ],
             [
              0.3333333333333333,
              "#9c179e"
             ],
             [
              0.4444444444444444,
              "#bd3786"
             ],
             [
              0.5555555555555556,
              "#d8576b"
             ],
             [
              0.6666666666666666,
              "#ed7953"
             ],
             [
              0.7777777777777778,
              "#fb9f3a"
             ],
             [
              0.8888888888888888,
              "#fdca26"
             ],
             [
              1,
              "#f0f921"
             ]
            ],
            "type": "histogram2dcontour"
           }
          ],
          "mesh3d": [
           {
            "colorbar": {
             "outlinewidth": 0,
             "ticks": ""
            },
            "type": "mesh3d"
           }
          ],
          "parcoords": [
           {
            "line": {
             "colorbar": {
              "outlinewidth": 0,
              "ticks": ""
             }
            },
            "type": "parcoords"
           }
          ],
          "pie": [
           {
            "automargin": true,
            "type": "pie"
           }
          ],
          "scatter": [
           {
            "fillpattern": {
             "fillmode": "overlay",
             "size": 10,
             "solidity": 0.2
            },
            "type": "scatter"
           }
          ],
          "scatter3d": [
           {
            "line": {
             "colorbar": {
              "outlinewidth": 0,
              "ticks": ""
             }
            },
            "marker": {
             "colorbar": {
              "outlinewidth": 0,
              "ticks": ""
             }
            },
            "type": "scatter3d"
           }
          ],
          "scattercarpet": [
           {
            "marker": {
             "colorbar": {
              "outlinewidth": 0,
              "ticks": ""
             }
            },
            "type": "scattercarpet"
           }
          ],
          "scattergeo": [
           {
            "marker": {
             "colorbar": {
              "outlinewidth": 0,
              "ticks": ""
             }
            },
            "type": "scattergeo"
           }
          ],
          "scattergl": [
           {
            "marker": {
             "colorbar": {
              "outlinewidth": 0,
              "ticks": ""
             }
            },
            "type": "scattergl"
           }
          ],
          "scattermap": [
           {
            "marker": {
             "colorbar": {
              "outlinewidth": 0,
              "ticks": ""
             }
            },
            "type": "scattermap"
           }
          ],
          "scattermapbox": [
           {
            "marker": {
             "colorbar": {
              "outlinewidth": 0,
              "ticks": ""
             }
            },
            "type": "scattermapbox"
           }
          ],
          "scatterpolar": [
           {
            "marker": {
             "colorbar": {
              "outlinewidth": 0,
              "ticks": ""
             }
            },
            "type": "scatterpolar"
           }
          ],
          "scatterpolargl": [
           {
            "marker": {
             "colorbar": {
              "outlinewidth": 0,
              "ticks": ""
             }
            },
            "type": "scatterpolargl"
           }
          ],
          "scatterternary": [
           {
            "marker": {
             "colorbar": {
              "outlinewidth": 0,
              "ticks": ""
             }
            },
            "type": "scatterternary"
           }
          ],
          "surface": [
           {
            "colorbar": {
             "outlinewidth": 0,
             "ticks": ""
            },
            "colorscale": [
             [
              0,
              "#0d0887"
             ],
             [
              0.1111111111111111,
              "#46039f"
             ],
             [
              0.2222222222222222,
              "#7201a8"
             ],
             [
              0.3333333333333333,
              "#9c179e"
             ],
             [
              0.4444444444444444,
              "#bd3786"
             ],
             [
              0.5555555555555556,
              "#d8576b"
             ],
             [
              0.6666666666666666,
              "#ed7953"
             ],
             [
              0.7777777777777778,
              "#fb9f3a"
             ],
             [
              0.8888888888888888,
              "#fdca26"
             ],
             [
              1,
              "#f0f921"
             ]
            ],
            "type": "surface"
           }
          ],
          "table": [
           {
            "cells": {
             "fill": {
              "color": "#EBF0F8"
             },
             "line": {
              "color": "white"
             }
            },
            "header": {
             "fill": {
              "color": "#C8D4E3"
             },
             "line": {
              "color": "white"
             }
            },
            "type": "table"
           }
          ]
         },
         "layout": {
          "annotationdefaults": {
           "arrowcolor": "#2a3f5f",
           "arrowhead": 0,
           "arrowwidth": 1
          },
          "autotypenumbers": "strict",
          "coloraxis": {
           "colorbar": {
            "outlinewidth": 0,
            "ticks": ""
           }
          },
          "colorscale": {
           "diverging": [
            [
             0,
             "#8e0152"
            ],
            [
             0.1,
             "#c51b7d"
            ],
            [
             0.2,
             "#de77ae"
            ],
            [
             0.3,
             "#f1b6da"
            ],
            [
             0.4,
             "#fde0ef"
            ],
            [
             0.5,
             "#f7f7f7"
            ],
            [
             0.6,
             "#e6f5d0"
            ],
            [
             0.7,
             "#b8e186"
            ],
            [
             0.8,
             "#7fbc41"
            ],
            [
             0.9,
             "#4d9221"
            ],
            [
             1,
             "#276419"
            ]
           ],
           "sequential": [
            [
             0,
             "#0d0887"
            ],
            [
             0.1111111111111111,
             "#46039f"
            ],
            [
             0.2222222222222222,
             "#7201a8"
            ],
            [
             0.3333333333333333,
             "#9c179e"
            ],
            [
             0.4444444444444444,
             "#bd3786"
            ],
            [
             0.5555555555555556,
             "#d8576b"
            ],
            [
             0.6666666666666666,
             "#ed7953"
            ],
            [
             0.7777777777777778,
             "#fb9f3a"
            ],
            [
             0.8888888888888888,
             "#fdca26"
            ],
            [
             1,
             "#f0f921"
            ]
           ],
           "sequentialminus": [
            [
             0,
             "#0d0887"
            ],
            [
             0.1111111111111111,
             "#46039f"
            ],
            [
             0.2222222222222222,
             "#7201a8"
            ],
            [
             0.3333333333333333,
             "#9c179e"
            ],
            [
             0.4444444444444444,
             "#bd3786"
            ],
            [
             0.5555555555555556,
             "#d8576b"
            ],
            [
             0.6666666666666666,
             "#ed7953"
            ],
            [
             0.7777777777777778,
             "#fb9f3a"
            ],
            [
             0.8888888888888888,
             "#fdca26"
            ],
            [
             1,
             "#f0f921"
            ]
           ]
          },
          "colorway": [
           "#636efa",
           "#EF553B",
           "#00cc96",
           "#ab63fa",
           "#FFA15A",
           "#19d3f3",
           "#FF6692",
           "#B6E880",
           "#FF97FF",
           "#FECB52"
          ],
          "font": {
           "color": "#2a3f5f"
          },
          "geo": {
           "bgcolor": "white",
           "lakecolor": "white",
           "landcolor": "#E5ECF6",
           "showlakes": true,
           "showland": true,
           "subunitcolor": "white"
          },
          "hoverlabel": {
           "align": "left"
          },
          "hovermode": "closest",
          "mapbox": {
           "style": "light"
          },
          "paper_bgcolor": "white",
          "plot_bgcolor": "#E5ECF6",
          "polar": {
           "angularaxis": {
            "gridcolor": "white",
            "linecolor": "white",
            "ticks": ""
           },
           "bgcolor": "#E5ECF6",
           "radialaxis": {
            "gridcolor": "white",
            "linecolor": "white",
            "ticks": ""
           }
          },
          "scene": {
           "xaxis": {
            "backgroundcolor": "#E5ECF6",
            "gridcolor": "white",
            "gridwidth": 2,
            "linecolor": "white",
            "showbackground": true,
            "ticks": "",
            "zerolinecolor": "white"
           },
           "yaxis": {
            "backgroundcolor": "#E5ECF6",
            "gridcolor": "white",
            "gridwidth": 2,
            "linecolor": "white",
            "showbackground": true,
            "ticks": "",
            "zerolinecolor": "white"
           },
           "zaxis": {
            "backgroundcolor": "#E5ECF6",
            "gridcolor": "white",
            "gridwidth": 2,
            "linecolor": "white",
            "showbackground": true,
            "ticks": "",
            "zerolinecolor": "white"
           }
          },
          "shapedefaults": {
           "line": {
            "color": "#2a3f5f"
           }
          },
          "ternary": {
           "aaxis": {
            "gridcolor": "white",
            "linecolor": "white",
            "ticks": ""
           },
           "baxis": {
            "gridcolor": "white",
            "linecolor": "white",
            "ticks": ""
           },
           "bgcolor": "#E5ECF6",
           "caxis": {
            "gridcolor": "white",
            "linecolor": "white",
            "ticks": ""
           }
          },
          "title": {
           "x": 0.05
          },
          "xaxis": {
           "automargin": true,
           "gridcolor": "white",
           "linecolor": "white",
           "ticks": "",
           "title": {
            "standoff": 15
           },
           "zerolinecolor": "white",
           "zerolinewidth": 2
          },
          "yaxis": {
           "automargin": true,
           "gridcolor": "white",
           "linecolor": "white",
           "ticks": "",
           "title": {
            "standoff": 15
           },
           "zerolinecolor": "white",
           "zerolinewidth": 2
          }
         }
        },
        "title": {
         "text": "Prix payé par pays"
        }
       }
      }
     },
     "metadata": {},
     "output_type": "display_data"
    }
   ],
   "source": [
    "figure = px.pie(copy, values='price_paid', names='country', title=\"Prix payé par pays\")\n",
    "figure.show()"
   ]
  },
  {
   "cell_type": "code",
   "execution_count": 60,
   "metadata": {},
   "outputs": [
    {
     "data": {
      "application/vnd.plotly.v1+json": {
       "config": {
        "plotlyServerURL": "https://plot.ly"
       },
       "data": [
        {
         "hovertemplate": "country=%{x}<br>price_paid=%{y}<extra></extra>",
         "legendgroup": "",
         "marker": {
          "color": "#636efa",
          "pattern": {
           "shape": ""
          }
         },
         "name": "",
         "orientation": "v",
         "showlegend": false,
         "textposition": "auto",
         "type": "bar",
         "x": [
          "Canada",
          "Canada",
          "United States",
          "United States",
          "Morocco",
          "United States",
          "Canada",
          "France",
          "Canada",
          "France",
          "Canada",
          "United States",
          "Canada",
          "France",
          "United States",
          "United States",
          "United States",
          "United States",
          "France",
          "Canada",
          "France",
          "Canada",
          "Canada",
          "Canada",
          "Canada",
          "United States",
          "United States",
          "United States",
          null,
          "United States",
          "Morocco",
          "France",
          "United States",
          "United States",
          "France",
          "France",
          "France",
          "United States",
          "Canada",
          "Canada",
          "United States",
          "France",
          "Morocco",
          "United States",
          "United States",
          "United States",
          "France",
          "United States",
          "United States",
          "France",
          "France",
          "France",
          "Canada",
          "United States",
          "France",
          "France",
          "Canada",
          "France",
          "United States",
          "United States",
          "France",
          "United States",
          "United States",
          "Canada",
          "Canada",
          "France",
          "Canada",
          "United States",
          "France",
          "Canada",
          "France",
          "France",
          "France",
          "United States",
          "United States",
          "Morocco",
          "United States",
          "France",
          "United States",
          "Canada",
          "United States",
          "Canada",
          "Canada",
          "France",
          "United States",
          "Canada",
          "Canada",
          "United States",
          "Morocco",
          null,
          "France",
          "United States",
          "France",
          "France",
          "United States",
          "France",
          "United States",
          "France",
          "Canada",
          "Canada",
          "France",
          "United States",
          "United States",
          "United States",
          "Morocco",
          "United States",
          "France",
          "France",
          "France",
          "France",
          "Canada",
          "United States",
          "United States",
          "France",
          "France",
          "United States",
          "France",
          "United States",
          "United States",
          "Morocco",
          "United States",
          "United States",
          "United States",
          "France",
          "France",
          "United States",
          "France",
          "United States",
          "France",
          "United States",
          "France",
          null,
          "Canada",
          "Canada",
          "France",
          "United States",
          "United States",
          "France",
          "United States",
          "France",
          "France",
          "France",
          "France",
          "France",
          "United States",
          "United States",
          "United States",
          null,
          "France",
          "France",
          "France",
          "United States",
          "France",
          "Canada",
          "Canada",
          "United States",
          "France",
          "Canada",
          "Morocco",
          "France",
          "Canada",
          "Canada",
          "United States",
          "France",
          "Canada",
          "France",
          "United States",
          null,
          "Morocco",
          "Canada",
          "United States",
          "Canada",
          "France",
          "United States",
          "United States",
          "Canada",
          "Canada",
          "United States",
          "Canada",
          "France",
          null,
          "United States",
          "Canada",
          "United States",
          "France",
          "France",
          null,
          "France",
          "Canada",
          "Canada",
          "United States",
          "Morocco",
          "United States",
          "Canada",
          "France",
          "Morocco",
          "Canada",
          "United States",
          "France",
          "France",
          "United States",
          "France",
          "United States",
          "France",
          "France",
          "Morocco",
          "United States",
          "United States",
          "France",
          "France",
          null,
          "France",
          "United States",
          "United States",
          "France",
          "Canada",
          "France",
          "United States",
          "Canada",
          "France",
          null,
          "United States",
          "Canada",
          "United States",
          "United States",
          "Canada",
          "United States",
          "France",
          "France",
          "United States",
          "United States",
          "Canada",
          "Canada",
          "United States",
          "Canada",
          "France",
          null,
          "Canada",
          "United States",
          "Canada",
          "United States",
          null,
          "France",
          "France",
          "United States",
          "France",
          "France",
          "United States",
          "France",
          null,
          "France",
          "France",
          "Canada",
          "United States",
          "France",
          "United States",
          "Canada",
          "Canada",
          null,
          "Canada",
          "France",
          "Canada",
          "Canada",
          "France",
          null,
          "France",
          "United States",
          "France",
          null,
          "United States",
          "France",
          null,
          "France",
          "France",
          "France",
          "France",
          "France",
          "United States",
          "United States",
          "France",
          "France",
          "United States",
          "United States",
          null,
          "United States",
          "France",
          "Canada",
          "United States",
          null,
          "Morocco",
          "United States",
          "United States",
          "France",
          "Canada",
          "France",
          "France",
          "France",
          "France",
          "Canada",
          "France",
          "United States",
          "Morocco",
          "Canada",
          "Canada",
          "Morocco",
          "United States",
          "France",
          "France",
          "France",
          "United States",
          "France",
          "United States",
          "Canada",
          "United States",
          "France",
          "United States",
          "Morocco",
          "Canada",
          "France",
          "United States",
          "United States",
          "France",
          "France",
          "France",
          "France",
          "France",
          null,
          "Canada",
          "France",
          "United States",
          "United States",
          null,
          "France",
          "United States",
          "United States",
          "France",
          "France",
          "Morocco",
          "Canada",
          "France",
          "France",
          "France",
          "France",
          "France",
          "France",
          "Canada",
          "United States",
          "France",
          "Canada",
          "Morocco",
          "United States",
          "United States",
          "France",
          "Canada",
          "United States",
          "Canada",
          "France",
          "France",
          null,
          "United States",
          "France",
          "Canada",
          "Morocco",
          "United States",
          "United States",
          "United States",
          "United States",
          "France",
          "Canada",
          "United States",
          "France",
          "France",
          "United States",
          "United States",
          "France",
          "Morocco",
          null,
          "United States",
          "France",
          "Morocco",
          "United States",
          "France",
          "France",
          "Canada",
          "United States",
          "United States",
          "Morocco",
          "United States",
          "France",
          "France",
          "United States",
          "France",
          "France",
          null,
          "France",
          "United States",
          "United States",
          "United States",
          "Morocco",
          "France",
          "France",
          "United States",
          "France",
          "France",
          "France",
          "United States",
          "France",
          "Morocco",
          "France",
          "Canada",
          "France",
          "France",
          "France",
          "Canada",
          "France",
          "France",
          "Canada",
          "France",
          "France",
          "United States",
          "France",
          "France",
          "France",
          "United States",
          "France",
          "France",
          "United States",
          "Canada",
          "France",
          "Canada",
          "Canada",
          "Canada",
          "Canada",
          "Canada",
          "United States",
          "France",
          "France",
          "United States",
          "France",
          "United States",
          "France",
          "Canada",
          "France",
          null,
          "France",
          "Morocco",
          "United States",
          "France",
          "France",
          "France",
          "United States",
          "Morocco",
          "France",
          "United States",
          "France",
          "United States",
          "France",
          "France",
          null,
          "France",
          "Canada",
          "United States",
          "United States",
          null,
          "United States",
          "France",
          null,
          "United States",
          "United States",
          "France",
          "France",
          "Canada",
          "United States",
          "Canada",
          "Canada",
          "France",
          "France",
          null,
          "United States",
          "United States",
          "United States",
          "United States",
          "France",
          "France",
          "United States",
          "France",
          "United States",
          "France",
          "Canada",
          "United States",
          "France",
          "France",
          "France",
          "France",
          "France",
          "Canada",
          "Canada",
          "Canada",
          "Canada",
          "Morocco",
          "United States",
          "United States",
          "France",
          "Canada",
          "France",
          "United States",
          "Canada",
          "France",
          "France",
          "United States",
          "France",
          "United States",
          "France",
          "United States",
          "France",
          "Canada",
          "United States",
          "United States",
          "France",
          "France",
          "United States",
          "France",
          "United States",
          "Canada",
          "United States",
          "United States",
          "France",
          "France",
          "United States",
          "United States",
          "United States",
          "France",
          "Morocco",
          "United States",
          "United States",
          "France",
          "United States",
          "Morocco",
          "United States",
          "United States",
          "Canada",
          "Morocco",
          "France",
          "France",
          "France",
          "France",
          "France",
          "United States",
          "United States",
          "Canada",
          "Canada",
          "Morocco",
          "Canada",
          "France",
          "United States",
          "France",
          "Canada",
          "Canada",
          "United States",
          "United States",
          "France",
          "France",
          "France",
          "Canada",
          "United States",
          "Canada",
          "Canada",
          "France",
          "France",
          "United States",
          "France",
          "France",
          "France",
          "France",
          "France",
          "United States",
          "France",
          "France",
          "Canada",
          "Canada",
          "United States",
          "Morocco",
          "France",
          "France",
          "United States",
          "United States",
          "France",
          null,
          "France",
          "France",
          null,
          "United States",
          "France",
          "United States",
          "France",
          "France",
          "United States",
          "United States",
          "Morocco",
          "United States",
          "Morocco",
          "France",
          "France",
          "France",
          "France",
          "France",
          "Morocco",
          "United States",
          "United States",
          "United States",
          "France",
          "United States",
          "United States",
          "France",
          "United States",
          "United States",
          "Canada",
          "United States",
          "France",
          "United States",
          "France",
          "Morocco",
          "Canada",
          "France",
          "France",
          "France",
          "France",
          "Morocco",
          "France",
          "Canada",
          "France",
          "United States",
          "France",
          "France",
          "France",
          "United States",
          "United States",
          "United States",
          "United States",
          "France",
          "Canada",
          "France",
          "France",
          "France",
          "France",
          "Morocco",
          "Canada",
          "Canada",
          "Morocco",
          "France",
          "United States",
          "France",
          "United States",
          null,
          "United States",
          "United States",
          "France",
          "France",
          "France",
          "Morocco",
          "France",
          "France",
          "Canada",
          "United States",
          "Canada",
          "France",
          "United States",
          "France",
          "United States",
          "France",
          "United States",
          "United States",
          "United States",
          "France",
          "Canada",
          "United States",
          "United States",
          "United States",
          "United States",
          "United States",
          "France",
          "Morocco",
          "United States",
          "Canada",
          "United States",
          "France",
          "Canada",
          "France",
          "France",
          "United States",
          "France",
          "United States",
          "Canada",
          "France",
          "France",
          "France",
          "France",
          "United States",
          "United States",
          "France",
          "France",
          "France",
          "United States",
          "United States",
          "France",
          "Canada",
          "Canada",
          "France",
          "France",
          null,
          "Canada",
          "Canada",
          "United States",
          "France",
          "United States",
          "France",
          "France",
          "United States",
          "France",
          "United States",
          "Canada",
          "Morocco",
          "France",
          "France",
          "Canada",
          "United States",
          "France",
          "France",
          "France",
          "France",
          "United States",
          "United States",
          "France",
          "France",
          "France",
          "United States",
          "Morocco",
          "France",
          "France",
          "United States",
          "France",
          "United States",
          "France",
          null,
          "France",
          "United States",
          "France",
          "France",
          "United States",
          "Canada",
          "United States",
          "Canada",
          "Canada",
          "France",
          "France",
          "Canada",
          "United States",
          "France",
          "France",
          "Canada",
          "United States",
          "France",
          "Morocco",
          "France",
          "United States",
          "France",
          "France",
          "United States",
          "Canada",
          "United States",
          "Canada",
          "France",
          "United States",
          "United States",
          null,
          "United States",
          "Canada",
          "United States",
          "France",
          "France",
          "France",
          "Canada",
          "France",
          "Canada",
          "France",
          "United States",
          "France",
          "France",
          "France",
          "Morocco",
          "United States",
          "Morocco",
          "Canada",
          "United States",
          "France",
          "United States",
          "France",
          "United States",
          "France",
          "Canada",
          "Canada",
          "Canada",
          "France",
          "United States",
          "United States",
          "France",
          "France",
          "France",
          "United States",
          "United States",
          "France",
          "United States",
          "France",
          "France",
          "United States",
          "United States",
          "United States",
          "France",
          "Canada",
          "Canada",
          "United States",
          "United States",
          "United States",
          "France",
          "Canada",
          "United States",
          "France",
          "United States",
          "France",
          "Canada",
          "France",
          "United States",
          "United States",
          "Canada",
          "France",
          "Morocco",
          "United States",
          null,
          "United States",
          "France",
          "France",
          "France",
          "France",
          "United States",
          null,
          "United States",
          "United States",
          "United States",
          "France",
          "France",
          "France",
          "France",
          "France",
          "United States",
          "France",
          "France",
          "United States",
          "France",
          "United States",
          "France",
          "France",
          "United States",
          "France",
          "France",
          "France",
          "United States",
          null,
          "Canada",
          "France",
          "France",
          "France",
          "Canada",
          "Morocco",
          "France",
          "United States",
          "France",
          "United States",
          "France",
          "France",
          "United States",
          "France",
          "France",
          "Morocco",
          "United States",
          "United States",
          "France",
          "United States",
          "France",
          "France",
          "France",
          "France",
          "Morocco",
          "United States",
          null,
          "France",
          "France",
          "United States",
          "Canada",
          "France",
          "France",
          "United States",
          "France",
          "Canada",
          "Morocco",
          "United States",
          null,
          "France",
          "France",
          "France",
          "United States",
          "United States",
          "United States",
          null,
          "United States",
          "France",
          "France",
          "United States",
          null,
          "Canada",
          "Canada",
          "France",
          "United States",
          "France",
          "France",
          "United States",
          "United States",
          "United States",
          "United States",
          "United States",
          "United States",
          null,
          "United States",
          "Canada",
          "Canada",
          "France",
          "France",
          "United States",
          "France",
          "France",
          "United States",
          "Canada",
          "France",
          "France",
          "France",
          "United States",
          "France",
          "France",
          null,
          "France",
          "France",
          "France",
          "United States",
          "United States",
          "France",
          "United States",
          "United States",
          "France",
          "France",
          "United States",
          "United States",
          "United States",
          "France",
          "France",
          "France",
          "Canada",
          "United States",
          "United States",
          "United States",
          "France",
          "Canada",
          "United States",
          "Canada",
          "United States",
          "United States",
          "United States",
          "France",
          "France",
          "Morocco",
          "Canada",
          "France",
          "France",
          "United States",
          "United States",
          "Morocco",
          "United States",
          "France",
          "United States",
          "United States",
          "United States",
          "France",
          "France",
          "Morocco",
          "France",
          "France",
          "France",
          "France",
          null,
          "United States",
          "United States",
          "Canada"
         ],
         "xaxis": "x",
         "y": {
          "bdata": "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",
          "dtype": "f8"
         },
         "yaxis": "y"
        }
       ],
       "layout": {
        "barmode": "relative",
        "legend": {
         "tracegroupgap": 0
        },
        "template": {
         "data": {
          "bar": [
           {
            "error_x": {
             "color": "#2a3f5f"
            },
            "error_y": {
             "color": "#2a3f5f"
            },
            "marker": {
             "line": {
              "color": "#E5ECF6",
              "width": 0.5
             },
             "pattern": {
              "fillmode": "overlay",
              "size": 10,
              "solidity": 0.2
             }
            },
            "type": "bar"
           }
          ],
          "barpolar": [
           {
            "marker": {
             "line": {
              "color": "#E5ECF6",
              "width": 0.5
             },
             "pattern": {
              "fillmode": "overlay",
              "size": 10,
              "solidity": 0.2
             }
            },
            "type": "barpolar"
           }
          ],
          "carpet": [
           {
            "aaxis": {
             "endlinecolor": "#2a3f5f",
             "gridcolor": "white",
             "linecolor": "white",
             "minorgridcolor": "white",
             "startlinecolor": "#2a3f5f"
            },
            "baxis": {
             "endlinecolor": "#2a3f5f",
             "gridcolor": "white",
             "linecolor": "white",
             "minorgridcolor": "white",
             "startlinecolor": "#2a3f5f"
            },
            "type": "carpet"
           }
          ],
          "choropleth": [
           {
            "colorbar": {
             "outlinewidth": 0,
             "ticks": ""
            },
            "type": "choropleth"
           }
          ],
          "contour": [
           {
            "colorbar": {
             "outlinewidth": 0,
             "ticks": ""
            },
            "colorscale": [
             [
              0,
              "#0d0887"
             ],
             [
              0.1111111111111111,
              "#46039f"
             ],
             [
              0.2222222222222222,
              "#7201a8"
             ],
             [
              0.3333333333333333,
              "#9c179e"
             ],
             [
              0.4444444444444444,
              "#bd3786"
             ],
             [
              0.5555555555555556,
              "#d8576b"
             ],
             [
              0.6666666666666666,
              "#ed7953"
             ],
             [
              0.7777777777777778,
              "#fb9f3a"
             ],
             [
              0.8888888888888888,
              "#fdca26"
             ],
             [
              1,
              "#f0f921"
             ]
            ],
            "type": "contour"
           }
          ],
          "contourcarpet": [
           {
            "colorbar": {
             "outlinewidth": 0,
             "ticks": ""
            },
            "type": "contourcarpet"
           }
          ],
          "heatmap": [
           {
            "colorbar": {
             "outlinewidth": 0,
             "ticks": ""
            },
            "colorscale": [
             [
              0,
              "#0d0887"
             ],
             [
              0.1111111111111111,
              "#46039f"
             ],
             [
              0.2222222222222222,
              "#7201a8"
             ],
             [
              0.3333333333333333,
              "#9c179e"
             ],
             [
              0.4444444444444444,
              "#bd3786"
             ],
             [
              0.5555555555555556,
              "#d8576b"
             ],
             [
              0.6666666666666666,
              "#ed7953"
             ],
             [
              0.7777777777777778,
              "#fb9f3a"
             ],
             [
              0.8888888888888888,
              "#fdca26"
             ],
             [
              1,
              "#f0f921"
             ]
            ],
            "type": "heatmap"
           }
          ],
          "histogram": [
           {
            "marker": {
             "pattern": {
              "fillmode": "overlay",
              "size": 10,
              "solidity": 0.2
             }
            },
            "type": "histogram"
           }
          ],
          "histogram2d": [
           {
            "colorbar": {
             "outlinewidth": 0,
             "ticks": ""
            },
            "colorscale": [
             [
              0,
              "#0d0887"
             ],
             [
              0.1111111111111111,
              "#46039f"
             ],
             [
              0.2222222222222222,
              "#7201a8"
             ],
             [
              0.3333333333333333,
              "#9c179e"
             ],
             [
              0.4444444444444444,
              "#bd3786"
             ],
             [
              0.5555555555555556,
              "#d8576b"
             ],
             [
              0.6666666666666666,
              "#ed7953"
             ],
             [
              0.7777777777777778,
              "#fb9f3a"
             ],
             [
              0.8888888888888888,
              "#fdca26"
             ],
             [
              1,
              "#f0f921"
             ]
            ],
            "type": "histogram2d"
           }
          ],
          "histogram2dcontour": [
           {
            "colorbar": {
             "outlinewidth": 0,
             "ticks": ""
            },
            "colorscale": [
             [
              0,
              "#0d0887"
             ],
             [
              0.1111111111111111,
              "#46039f"
             ],
             [
              0.2222222222222222,
              "#7201a8"
             ],
             [
              0.3333333333333333,
              "#9c179e"
             ],
             [
              0.4444444444444444,
              "#bd3786"
             ],
             [
              0.5555555555555556,
              "#d8576b"
             ],
             [
              0.6666666666666666,
              "#ed7953"
             ],
             [
              0.7777777777777778,
              "#fb9f3a"
             ],
             [
              0.8888888888888888,
              "#fdca26"
             ],
             [
              1,
              "#f0f921"
             ]
            ],
            "type": "histogram2dcontour"
           }
          ],
          "mesh3d": [
           {
            "colorbar": {
             "outlinewidth": 0,
             "ticks": ""
            },
            "type": "mesh3d"
           }
          ],
          "parcoords": [
           {
            "line": {
             "colorbar": {
              "outlinewidth": 0,
              "ticks": ""
             }
            },
            "type": "parcoords"
           }
          ],
          "pie": [
           {
            "automargin": true,
            "type": "pie"
           }
          ],
          "scatter": [
           {
            "fillpattern": {
             "fillmode": "overlay",
             "size": 10,
             "solidity": 0.2
            },
            "type": "scatter"
           }
          ],
          "scatter3d": [
           {
            "line": {
             "colorbar": {
              "outlinewidth": 0,
              "ticks": ""
             }
            },
            "marker": {
             "colorbar": {
              "outlinewidth": 0,
              "ticks": ""
             }
            },
            "type": "scatter3d"
           }
          ],
          "scattercarpet": [
           {
            "marker": {
             "colorbar": {
              "outlinewidth": 0,
              "ticks": ""
             }
            },
            "type": "scattercarpet"
           }
          ],
          "scattergeo": [
           {
            "marker": {
             "colorbar": {
              "outlinewidth": 0,
              "ticks": ""
             }
            },
            "type": "scattergeo"
           }
          ],
          "scattergl": [
           {
            "marker": {
             "colorbar": {
              "outlinewidth": 0,
              "ticks": ""
             }
            },
            "type": "scattergl"
           }
          ],
          "scattermap": [
           {
            "marker": {
             "colorbar": {
              "outlinewidth": 0,
              "ticks": ""
             }
            },
            "type": "scattermap"
           }
          ],
          "scattermapbox": [
           {
            "marker": {
             "colorbar": {
              "outlinewidth": 0,
              "ticks": ""
             }
            },
            "type": "scattermapbox"
           }
          ],
          "scatterpolar": [
           {
            "marker": {
             "colorbar": {
              "outlinewidth": 0,
              "ticks": ""
             }
            },
            "type": "scatterpolar"
           }
          ],
          "scatterpolargl": [
           {
            "marker": {
             "colorbar": {
              "outlinewidth": 0,
              "ticks": ""
             }
            },
            "type": "scatterpolargl"
           }
          ],
          "scatterternary": [
           {
            "marker": {
             "colorbar": {
              "outlinewidth": 0,
              "ticks": ""
             }
            },
            "type": "scatterternary"
           }
          ],
          "surface": [
           {
            "colorbar": {
             "outlinewidth": 0,
             "ticks": ""
            },
            "colorscale": [
             [
              0,
              "#0d0887"
             ],
             [
              0.1111111111111111,
              "#46039f"
             ],
             [
              0.2222222222222222,
              "#7201a8"
             ],
             [
              0.3333333333333333,
              "#9c179e"
             ],
             [
              0.4444444444444444,
              "#bd3786"
             ],
             [
              0.5555555555555556,
              "#d8576b"
             ],
             [
              0.6666666666666666,
              "#ed7953"
             ],
             [
              0.7777777777777778,
              "#fb9f3a"
             ],
             [
              0.8888888888888888,
              "#fdca26"
             ],
             [
              1,
              "#f0f921"
             ]
            ],
            "type": "surface"
           }
          ],
          "table": [
           {
            "cells": {
             "fill": {
              "color": "#EBF0F8"
             },
             "line": {
              "color": "white"
             }
            },
            "header": {
             "fill": {
              "color": "#C8D4E3"
             },
             "line": {
              "color": "white"
             }
            },
            "type": "table"
           }
          ]
         },
         "layout": {
          "annotationdefaults": {
           "arrowcolor": "#2a3f5f",
           "arrowhead": 0,
           "arrowwidth": 1
          },
          "autotypenumbers": "strict",
          "coloraxis": {
           "colorbar": {
            "outlinewidth": 0,
            "ticks": ""
           }
          },
          "colorscale": {
           "diverging": [
            [
             0,
             "#8e0152"
            ],
            [
             0.1,
             "#c51b7d"
            ],
            [
             0.2,
             "#de77ae"
            ],
            [
             0.3,
             "#f1b6da"
            ],
            [
             0.4,
             "#fde0ef"
            ],
            [
             0.5,
             "#f7f7f7"
            ],
            [
             0.6,
             "#e6f5d0"
            ],
            [
             0.7,
             "#b8e186"
            ],
            [
             0.8,
             "#7fbc41"
            ],
            [
             0.9,
             "#4d9221"
            ],
            [
             1,
             "#276419"
            ]
           ],
           "sequential": [
            [
             0,
             "#0d0887"
            ],
            [
             0.1111111111111111,
             "#46039f"
            ],
            [
             0.2222222222222222,
             "#7201a8"
            ],
            [
             0.3333333333333333,
             "#9c179e"
            ],
            [
             0.4444444444444444,
             "#bd3786"
            ],
            [
             0.5555555555555556,
             "#d8576b"
            ],
            [
             0.6666666666666666,
             "#ed7953"
            ],
            [
             0.7777777777777778,
             "#fb9f3a"
            ],
            [
             0.8888888888888888,
             "#fdca26"
            ],
            [
             1,
             "#f0f921"
            ]
           ],
           "sequentialminus": [
            [
             0,
             "#0d0887"
            ],
            [
             0.1111111111111111,
             "#46039f"
            ],
            [
             0.2222222222222222,
             "#7201a8"
            ],
            [
             0.3333333333333333,
             "#9c179e"
            ],
            [
             0.4444444444444444,
             "#bd3786"
            ],
            [
             0.5555555555555556,
             "#d8576b"
            ],
            [
             0.6666666666666666,
             "#ed7953"
            ],
            [
             0.7777777777777778,
             "#fb9f3a"
            ],
            [
             0.8888888888888888,
             "#fdca26"
            ],
            [
             1,
             "#f0f921"
            ]
           ]
          },
          "colorway": [
           "#636efa",
           "#EF553B",
           "#00cc96",
           "#ab63fa",
           "#FFA15A",
           "#19d3f3",
           "#FF6692",
           "#B6E880",
           "#FF97FF",
           "#FECB52"
          ],
          "font": {
           "color": "#2a3f5f"
          },
          "geo": {
           "bgcolor": "white",
           "lakecolor": "white",
           "landcolor": "#E5ECF6",
           "showlakes": true,
           "showland": true,
           "subunitcolor": "white"
          },
          "hoverlabel": {
           "align": "left"
          },
          "hovermode": "closest",
          "mapbox": {
           "style": "light"
          },
          "paper_bgcolor": "white",
          "plot_bgcolor": "#E5ECF6",
          "polar": {
           "angularaxis": {
            "gridcolor": "white",
            "linecolor": "white",
            "ticks": ""
           },
           "bgcolor": "#E5ECF6",
           "radialaxis": {
            "gridcolor": "white",
            "linecolor": "white",
            "ticks": ""
           }
          },
          "scene": {
           "xaxis": {
            "backgroundcolor": "#E5ECF6",
            "gridcolor": "white",
            "gridwidth": 2,
            "linecolor": "white",
            "showbackground": true,
            "ticks": "",
            "zerolinecolor": "white"
           },
           "yaxis": {
            "backgroundcolor": "#E5ECF6",
            "gridcolor": "white",
            "gridwidth": 2,
            "linecolor": "white",
            "showbackground": true,
            "ticks": "",
            "zerolinecolor": "white"
           },
           "zaxis": {
            "backgroundcolor": "#E5ECF6",
            "gridcolor": "white",
            "gridwidth": 2,
            "linecolor": "white",
            "showbackground": true,
            "ticks": "",
            "zerolinecolor": "white"
           }
          },
          "shapedefaults": {
           "line": {
            "color": "#2a3f5f"
           }
          },
          "ternary": {
           "aaxis": {
            "gridcolor": "white",
            "linecolor": "white",
            "ticks": ""
           },
           "baxis": {
            "gridcolor": "white",
            "linecolor": "white",
            "ticks": ""
           },
           "bgcolor": "#E5ECF6",
           "caxis": {
            "gridcolor": "white",
            "linecolor": "white",
            "ticks": ""
           }
          },
          "title": {
           "x": 0.05
          },
          "xaxis": {
           "automargin": true,
           "gridcolor": "white",
           "linecolor": "white",
           "ticks": "",
           "title": {
            "standoff": 15
           },
           "zerolinecolor": "white",
           "zerolinewidth": 2
          },
          "yaxis": {
           "automargin": true,
           "gridcolor": "white",
           "linecolor": "white",
           "ticks": "",
           "title": {
            "standoff": 15
           },
           "zerolinecolor": "white",
           "zerolinewidth": 2
          }
         }
        },
        "title": {
         "text": "prix par pays"
        },
        "xaxis": {
         "anchor": "y",
         "domain": [
          0,
          1
         ],
         "title": {
          "text": "country"
         }
        },
        "yaxis": {
         "anchor": "x",
         "domain": [
          0,
          1
         ],
         "title": {
          "text": "price_paid"
         }
        }
       }
      }
     },
     "metadata": {},
     "output_type": "display_data"
    }
   ],
   "source": [
    "fig = px.bar(copy, x='country', y='price_paid', title='prix par pays')\n",
    "fig.show()"
   ]
  },
  {
   "cell_type": "code",
   "execution_count": 61,
   "metadata": {},
   "outputs": [
    {
     "data": {
      "application/vnd.plotly.v1+json": {
       "config": {
        "plotlyServerURL": "https://plot.ly"
       },
       "data": [
        {
         "hovertemplate": "price_paid=%{x}<br>country=%{y}<extra></extra>",
         "legendgroup": "",
         "marker": {
          "color": "#636efa",
          "symbol": "circle"
         },
         "mode": "markers",
         "name": "",
         "orientation": "h",
         "showlegend": false,
         "type": "scatter",
         "x": {
          "bdata": "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",
          "dtype": "f8"
         },
         "xaxis": "x",
         "y": [
          "Canada",
          "Canada",
          "United States",
          "United States",
          "Morocco",
          "United States",
          "Canada",
          "France",
          "Canada",
          "France",
          "Canada",
          "United States",
          "Canada",
          "France",
          "United States",
          "United States",
          "United States",
          "United States",
          "France",
          "Canada",
          "France",
          "Canada",
          "Canada",
          "Canada",
          "Canada",
          "United States",
          "United States",
          "United States",
          null,
          "United States",
          "Morocco",
          "France",
          "United States",
          "United States",
          "France",
          "France",
          "France",
          "United States",
          "Canada",
          "Canada",
          "United States",
          "France",
          "Morocco",
          "United States",
          "United States",
          "United States",
          "France",
          "United States",
          "United States",
          "France",
          "France",
          "France",
          "Canada",
          "United States",
          "France",
          "France",
          "Canada",
          "France",
          "United States",
          "United States",
          "France",
          "United States",
          "United States",
          "Canada",
          "Canada",
          "France",
          "Canada",
          "United States",
          "France",
          "Canada",
          "France",
          "France",
          "France",
          "United States",
          "United States",
          "Morocco",
          "United States",
          "France",
          "United States",
          "Canada",
          "United States",
          "Canada",
          "Canada",
          "France",
          "United States",
          "Canada",
          "Canada",
          "United States",
          "Morocco",
          null,
          "France",
          "United States",
          "France",
          "France",
          "United States",
          "France",
          "United States",
          "France",
          "Canada",
          "Canada",
          "France",
          "United States",
          "United States",
          "United States",
          "Morocco",
          "United States",
          "France",
          "France",
          "France",
          "France",
          "Canada",
          "United States",
          "United States",
          "France",
          "France",
          "United States",
          "France",
          "United States",
          "United States",
          "Morocco",
          "United States",
          "United States",
          "United States",
          "France",
          "France",
          "United States",
          "France",
          "United States",
          "France",
          "United States",
          "France",
          null,
          "Canada",
          "Canada",
          "France",
          "United States",
          "United States",
          "France",
          "United States",
          "France",
          "France",
          "France",
          "France",
          "France",
          "United States",
          "United States",
          "United States",
          null,
          "France",
          "France",
          "France",
          "United States",
          "France",
          "Canada",
          "Canada",
          "United States",
          "France",
          "Canada",
          "Morocco",
          "France",
          "Canada",
          "Canada",
          "United States",
          "France",
          "Canada",
          "France",
          "United States",
          null,
          "Morocco",
          "Canada",
          "United States",
          "Canada",
          "France",
          "United States",
          "United States",
          "Canada",
          "Canada",
          "United States",
          "Canada",
          "France",
          null,
          "United States",
          "Canada",
          "United States",
          "France",
          "France",
          null,
          "France",
          "Canada",
          "Canada",
          "United States",
          "Morocco",
          "United States",
          "Canada",
          "France",
          "Morocco",
          "Canada",
          "United States",
          "France",
          "France",
          "United States",
          "France",
          "United States",
          "France",
          "France",
          "Morocco",
          "United States",
          "United States",
          "France",
          "France",
          null,
          "France",
          "United States",
          "United States",
          "France",
          "Canada",
          "France",
          "United States",
          "Canada",
          "France",
          null,
          "United States",
          "Canada",
          "United States",
          "United States",
          "Canada",
          "United States",
          "France",
          "France",
          "United States",
          "United States",
          "Canada",
          "Canada",
          "United States",
          "Canada",
          "France",
          null,
          "Canada",
          "United States",
          "Canada",
          "United States",
          null,
          "France",
          "France",
          "United States",
          "France",
          "France",
          "United States",
          "France",
          null,
          "France",
          "France",
          "Canada",
          "United States",
          "France",
          "United States",
          "Canada",
          "Canada",
          null,
          "Canada",
          "France",
          "Canada",
          "Canada",
          "France",
          null,
          "France",
          "United States",
          "France",
          null,
          "United States",
          "France",
          null,
          "France",
          "France",
          "France",
          "France",
          "France",
          "United States",
          "United States",
          "France",
          "France",
          "United States",
          "United States",
          null,
          "United States",
          "France",
          "Canada",
          "United States",
          null,
          "Morocco",
          "United States",
          "United States",
          "France",
          "Canada",
          "France",
          "France",
          "France",
          "France",
          "Canada",
          "France",
          "United States",
          "Morocco",
          "Canada",
          "Canada",
          "Morocco",
          "United States",
          "France",
          "France",
          "France",
          "United States",
          "France",
          "United States",
          "Canada",
          "United States",
          "France",
          "United States",
          "Morocco",
          "Canada",
          "France",
          "United States",
          "United States",
          "France",
          "France",
          "France",
          "France",
          "France",
          null,
          "Canada",
          "France",
          "United States",
          "United States",
          null,
          "France",
          "United States",
          "United States",
          "France",
          "France",
          "Morocco",
          "Canada",
          "France",
          "France",
          "France",
          "France",
          "France",
          "France",
          "Canada",
          "United States",
          "France",
          "Canada",
          "Morocco",
          "United States",
          "United States",
          "France",
          "Canada",
          "United States",
          "Canada",
          "France",
          "France",
          null,
          "United States",
          "France",
          "Canada",
          "Morocco",
          "United States",
          "United States",
          "United States",
          "United States",
          "France",
          "Canada",
          "United States",
          "France",
          "France",
          "United States",
          "United States",
          "France",
          "Morocco",
          null,
          "United States",
          "France",
          "Morocco",
          "United States",
          "France",
          "France",
          "Canada",
          "United States",
          "United States",
          "Morocco",
          "United States",
          "France",
          "France",
          "United States",
          "France",
          "France",
          null,
          "France",
          "United States",
          "United States",
          "United States",
          "Morocco",
          "France",
          "France",
          "United States",
          "France",
          "France",
          "France",
          "United States",
          "France",
          "Morocco",
          "France",
          "Canada",
          "France",
          "France",
          "France",
          "Canada",
          "France",
          "France",
          "Canada",
          "France",
          "France",
          "United States",
          "France",
          "France",
          "France",
          "United States",
          "France",
          "France",
          "United States",
          "Canada",
          "France",
          "Canada",
          "Canada",
          "Canada",
          "Canada",
          "Canada",
          "United States",
          "France",
          "France",
          "United States",
          "France",
          "United States",
          "France",
          "Canada",
          "France",
          null,
          "France",
          "Morocco",
          "United States",
          "France",
          "France",
          "France",
          "United States",
          "Morocco",
          "France",
          "United States",
          "France",
          "United States",
          "France",
          "France",
          null,
          "France",
          "Canada",
          "United States",
          "United States",
          null,
          "United States",
          "France",
          null,
          "United States",
          "United States",
          "France",
          "France",
          "Canada",
          "United States",
          "Canada",
          "Canada",
          "France",
          "France",
          null,
          "United States",
          "United States",
          "United States",
          "United States",
          "France",
          "France",
          "United States",
          "France",
          "United States",
          "France",
          "Canada",
          "United States",
          "France",
          "France",
          "France",
          "France",
          "France",
          "Canada",
          "Canada",
          "Canada",
          "Canada",
          "Morocco",
          "United States",
          "United States",
          "France",
          "Canada",
          "France",
          "United States",
          "Canada",
          "France",
          "France",
          "United States",
          "France",
          "United States",
          "France",
          "United States",
          "France",
          "Canada",
          "United States",
          "United States",
          "France",
          "France",
          "United States",
          "France",
          "United States",
          "Canada",
          "United States",
          "United States",
          "France",
          "France",
          "United States",
          "United States",
          "United States",
          "France",
          "Morocco",
          "United States",
          "United States",
          "France",
          "United States",
          "Morocco",
          "United States",
          "United States",
          "Canada",
          "Morocco",
          "France",
          "France",
          "France",
          "France",
          "France",
          "United States",
          "United States",
          "Canada",
          "Canada",
          "Morocco",
          "Canada",
          "France",
          "United States",
          "France",
          "Canada",
          "Canada",
          "United States",
          "United States",
          "France",
          "France",
          "France",
          "Canada",
          "United States",
          "Canada",
          "Canada",
          "France",
          "France",
          "United States",
          "France",
          "France",
          "France",
          "France",
          "France",
          "United States",
          "France",
          "France",
          "Canada",
          "Canada",
          "United States",
          "Morocco",
          "France",
          "France",
          "United States",
          "United States",
          "France",
          null,
          "France",
          "France",
          null,
          "United States",
          "France",
          "United States",
          "France",
          "France",
          "United States",
          "United States",
          "Morocco",
          "United States",
          "Morocco",
          "France",
          "France",
          "France",
          "France",
          "France",
          "Morocco",
          "United States",
          "United States",
          "United States",
          "France",
          "United States",
          "United States",
          "France",
          "United States",
          "United States",
          "Canada",
          "United States",
          "France",
          "United States",
          "France",
          "Morocco",
          "Canada",
          "France",
          "France",
          "France",
          "France",
          "Morocco",
          "France",
          "Canada",
          "France",
          "United States",
          "France",
          "France",
          "France",
          "United States",
          "United States",
          "United States",
          "United States",
          "France",
          "Canada",
          "France",
          "France",
          "France",
          "France",
          "Morocco",
          "Canada",
          "Canada",
          "Morocco",
          "France",
          "United States",
          "France",
          "United States",
          null,
          "United States",
          "United States",
          "France",
          "France",
          "France",
          "Morocco",
          "France",
          "France",
          "Canada",
          "United States",
          "Canada",
          "France",
          "United States",
          "France",
          "United States",
          "France",
          "United States",
          "United States",
          "United States",
          "France",
          "Canada",
          "United States",
          "United States",
          "United States",
          "United States",
          "United States",
          "France",
          "Morocco",
          "United States",
          "Canada",
          "United States",
          "France",
          "Canada",
          "France",
          "France",
          "United States",
          "France",
          "United States",
          "Canada",
          "France",
          "France",
          "France",
          "France",
          "United States",
          "United States",
          "France",
          "France",
          "France",
          "United States",
          "United States",
          "France",
          "Canada",
          "Canada",
          "France",
          "France",
          null,
          "Canada",
          "Canada",
          "United States",
          "France",
          "United States",
          "France",
          "France",
          "United States",
          "France",
          "United States",
          "Canada",
          "Morocco",
          "France",
          "France",
          "Canada",
          "United States",
          "France",
          "France",
          "France",
          "France",
          "United States",
          "United States",
          "France",
          "France",
          "France",
          "United States",
          "Morocco",
          "France",
          "France",
          "United States",
          "France",
          "United States",
          "France",
          null,
          "France",
          "United States",
          "France",
          "France",
          "United States",
          "Canada",
          "United States",
          "Canada",
          "Canada",
          "France",
          "France",
          "Canada",
          "United States",
          "France",
          "France",
          "Canada",
          "United States",
          "France",
          "Morocco",
          "France",
          "United States",
          "France",
          "France",
          "United States",
          "Canada",
          "United States",
          "Canada",
          "France",
          "United States",
          "United States",
          null,
          "United States",
          "Canada",
          "United States",
          "France",
          "France",
          "France",
          "Canada",
          "France",
          "Canada",
          "France",
          "United States",
          "France",
          "France",
          "France",
          "Morocco",
          "United States",
          "Morocco",
          "Canada",
          "United States",
          "France",
          "United States",
          "France",
          "United States",
          "France",
          "Canada",
          "Canada",
          "Canada",
          "France",
          "United States",
          "United States",
          "France",
          "France",
          "France",
          "United States",
          "United States",
          "France",
          "United States",
          "France",
          "France",
          "United States",
          "United States",
          "United States",
          "France",
          "Canada",
          "Canada",
          "United States",
          "United States",
          "United States",
          "France",
          "Canada",
          "United States",
          "France",
          "United States",
          "France",
          "Canada",
          "France",
          "United States",
          "United States",
          "Canada",
          "France",
          "Morocco",
          "United States",
          null,
          "United States",
          "France",
          "France",
          "France",
          "France",
          "United States",
          null,
          "United States",
          "United States",
          "United States",
          "France",
          "France",
          "France",
          "France",
          "France",
          "United States",
          "France",
          "France",
          "United States",
          "France",
          "United States",
          "France",
          "France",
          "United States",
          "France",
          "France",
          "France",
          "United States",
          null,
          "Canada",
          "France",
          "France",
          "France",
          "Canada",
          "Morocco",
          "France",
          "United States",
          "France",
          "United States",
          "France",
          "France",
          "United States",
          "France",
          "France",
          "Morocco",
          "United States",
          "United States",
          "France",
          "United States",
          "France",
          "France",
          "France",
          "France",
          "Morocco",
          "United States",
          null,
          "France",
          "France",
          "United States",
          "Canada",
          "France",
          "France",
          "United States",
          "France",
          "Canada",
          "Morocco",
          "United States",
          null,
          "France",
          "France",
          "France",
          "United States",
          "United States",
          "United States",
          null,
          "United States",
          "France",
          "France",
          "United States",
          null,
          "Canada",
          "Canada",
          "France",
          "United States",
          "France",
          "France",
          "United States",
          "United States",
          "United States",
          "United States",
          "United States",
          "United States",
          null,
          "United States",
          "Canada",
          "Canada",
          "France",
          "France",
          "United States",
          "France",
          "France",
          "United States",
          "Canada",
          "France",
          "France",
          "France",
          "United States",
          "France",
          "France",
          null,
          "France",
          "France",
          "France",
          "United States",
          "United States",
          "France",
          "United States",
          "United States",
          "France",
          "France",
          "United States",
          "United States",
          "United States",
          "France",
          "France",
          "France",
          "Canada",
          "United States",
          "United States",
          "United States",
          "France",
          "Canada",
          "United States",
          "Canada",
          "United States",
          "United States",
          "United States",
          "France",
          "France",
          "Morocco",
          "Canada",
          "France",
          "France",
          "United States",
          "United States",
          "Morocco",
          "United States",
          "France",
          "United States",
          "United States",
          "United States",
          "France",
          "France",
          "Morocco",
          "France",
          "France",
          "France",
          "France",
          null,
          "United States",
          "United States",
          "Canada"
         ],
         "yaxis": "y"
        }
       ],
       "layout": {
        "legend": {
         "tracegroupgap": 0
        },
        "margin": {
         "t": 60
        },
        "template": {
         "data": {
          "bar": [
           {
            "error_x": {
             "color": "#2a3f5f"
            },
            "error_y": {
             "color": "#2a3f5f"
            },
            "marker": {
             "line": {
              "color": "#E5ECF6",
              "width": 0.5
             },
             "pattern": {
              "fillmode": "overlay",
              "size": 10,
              "solidity": 0.2
             }
            },
            "type": "bar"
           }
          ],
          "barpolar": [
           {
            "marker": {
             "line": {
              "color": "#E5ECF6",
              "width": 0.5
             },
             "pattern": {
              "fillmode": "overlay",
              "size": 10,
              "solidity": 0.2
             }
            },
            "type": "barpolar"
           }
          ],
          "carpet": [
           {
            "aaxis": {
             "endlinecolor": "#2a3f5f",
             "gridcolor": "white",
             "linecolor": "white",
             "minorgridcolor": "white",
             "startlinecolor": "#2a3f5f"
            },
            "baxis": {
             "endlinecolor": "#2a3f5f",
             "gridcolor": "white",
             "linecolor": "white",
             "minorgridcolor": "white",
             "startlinecolor": "#2a3f5f"
            },
            "type": "carpet"
           }
          ],
          "choropleth": [
           {
            "colorbar": {
             "outlinewidth": 0,
             "ticks": ""
            },
            "type": "choropleth"
           }
          ],
          "contour": [
           {
            "colorbar": {
             "outlinewidth": 0,
             "ticks": ""
            },
            "colorscale": [
             [
              0,
              "#0d0887"
             ],
             [
              0.1111111111111111,
              "#46039f"
             ],
             [
              0.2222222222222222,
              "#7201a8"
             ],
             [
              0.3333333333333333,
              "#9c179e"
             ],
             [
              0.4444444444444444,
              "#bd3786"
             ],
             [
              0.5555555555555556,
              "#d8576b"
             ],
             [
              0.6666666666666666,
              "#ed7953"
             ],
             [
              0.7777777777777778,
              "#fb9f3a"
             ],
             [
              0.8888888888888888,
              "#fdca26"
             ],
             [
              1,
              "#f0f921"
             ]
            ],
            "type": "contour"
           }
          ],
          "contourcarpet": [
           {
            "colorbar": {
             "outlinewidth": 0,
             "ticks": ""
            },
            "type": "contourcarpet"
           }
          ],
          "heatmap": [
           {
            "colorbar": {
             "outlinewidth": 0,
             "ticks": ""
            },
            "colorscale": [
             [
              0,
              "#0d0887"
             ],
             [
              0.1111111111111111,
              "#46039f"
             ],
             [
              0.2222222222222222,
              "#7201a8"
             ],
             [
              0.3333333333333333,
              "#9c179e"
             ],
             [
              0.4444444444444444,
              "#bd3786"
             ],
             [
              0.5555555555555556,
              "#d8576b"
             ],
             [
              0.6666666666666666,
              "#ed7953"
             ],
             [
              0.7777777777777778,
              "#fb9f3a"
             ],
             [
              0.8888888888888888,
              "#fdca26"
             ],
             [
              1,
              "#f0f921"
             ]
            ],
            "type": "heatmap"
           }
          ],
          "histogram": [
           {
            "marker": {
             "pattern": {
              "fillmode": "overlay",
              "size": 10,
              "solidity": 0.2
             }
            },
            "type": "histogram"
           }
          ],
          "histogram2d": [
           {
            "colorbar": {
             "outlinewidth": 0,
             "ticks": ""
            },
            "colorscale": [
             [
              0,
              "#0d0887"
             ],
             [
              0.1111111111111111,
              "#46039f"
             ],
             [
              0.2222222222222222,
              "#7201a8"
             ],
             [
              0.3333333333333333,
              "#9c179e"
             ],
             [
              0.4444444444444444,
              "#bd3786"
             ],
             [
              0.5555555555555556,
              "#d8576b"
             ],
             [
              0.6666666666666666,
              "#ed7953"
             ],
             [
              0.7777777777777778,
              "#fb9f3a"
             ],
             [
              0.8888888888888888,
              "#fdca26"
             ],
             [
              1,
              "#f0f921"
             ]
            ],
            "type": "histogram2d"
           }
          ],
          "histogram2dcontour": [
           {
            "colorbar": {
             "outlinewidth": 0,
             "ticks": ""
            },
            "colorscale": [
             [
              0,
              "#0d0887"
             ],
             [
              0.1111111111111111,
              "#46039f"
             ],
             [
              0.2222222222222222,
              "#7201a8"
             ],
             [
              0.3333333333333333,
              "#9c179e"
             ],
             [
              0.4444444444444444,
              "#bd3786"
             ],
             [
              0.5555555555555556,
              "#d8576b"
             ],
             [
              0.6666666666666666,
              "#ed7953"
             ],
             [
              0.7777777777777778,
              "#fb9f3a"
             ],
             [
              0.8888888888888888,
              "#fdca26"
             ],
             [
              1,
              "#f0f921"
             ]
            ],
            "type": "histogram2dcontour"
           }
          ],
          "mesh3d": [
           {
            "colorbar": {
             "outlinewidth": 0,
             "ticks": ""
            },
            "type": "mesh3d"
           }
          ],
          "parcoords": [
           {
            "line": {
             "colorbar": {
              "outlinewidth": 0,
              "ticks": ""
             }
            },
            "type": "parcoords"
           }
          ],
          "pie": [
           {
            "automargin": true,
            "type": "pie"
           }
          ],
          "scatter": [
           {
            "fillpattern": {
             "fillmode": "overlay",
             "size": 10,
             "solidity": 0.2
            },
            "type": "scatter"
           }
          ],
          "scatter3d": [
           {
            "line": {
             "colorbar": {
              "outlinewidth": 0,
              "ticks": ""
             }
            },
            "marker": {
             "colorbar": {
              "outlinewidth": 0,
              "ticks": ""
             }
            },
            "type": "scatter3d"
           }
          ],
          "scattercarpet": [
           {
            "marker": {
             "colorbar": {
              "outlinewidth": 0,
              "ticks": ""
             }
            },
            "type": "scattercarpet"
           }
          ],
          "scattergeo": [
           {
            "marker": {
             "colorbar": {
              "outlinewidth": 0,
              "ticks": ""
             }
            },
            "type": "scattergeo"
           }
          ],
          "scattergl": [
           {
            "marker": {
             "colorbar": {
              "outlinewidth": 0,
              "ticks": ""
             }
            },
            "type": "scattergl"
           }
          ],
          "scattermap": [
           {
            "marker": {
             "colorbar": {
              "outlinewidth": 0,
              "ticks": ""
             }
            },
            "type": "scattermap"
           }
          ],
          "scattermapbox": [
           {
            "marker": {
             "colorbar": {
              "outlinewidth": 0,
              "ticks": ""
             }
            },
            "type": "scattermapbox"
           }
          ],
          "scatterpolar": [
           {
            "marker": {
             "colorbar": {
              "outlinewidth": 0,
              "ticks": ""
             }
            },
            "type": "scatterpolar"
           }
          ],
          "scatterpolargl": [
           {
            "marker": {
             "colorbar": {
              "outlinewidth": 0,
              "ticks": ""
             }
            },
            "type": "scatterpolargl"
           }
          ],
          "scatterternary": [
           {
            "marker": {
             "colorbar": {
              "outlinewidth": 0,
              "ticks": ""
             }
            },
            "type": "scatterternary"
           }
          ],
          "surface": [
           {
            "colorbar": {
             "outlinewidth": 0,
             "ticks": ""
            },
            "colorscale": [
             [
              0,
              "#0d0887"
             ],
             [
              0.1111111111111111,
              "#46039f"
             ],
             [
              0.2222222222222222,
              "#7201a8"
             ],
             [
              0.3333333333333333,
              "#9c179e"
             ],
             [
              0.4444444444444444,
              "#bd3786"
             ],
             [
              0.5555555555555556,
              "#d8576b"
             ],
             [
              0.6666666666666666,
              "#ed7953"
             ],
             [
              0.7777777777777778,
              "#fb9f3a"
             ],
             [
              0.8888888888888888,
              "#fdca26"
             ],
             [
              1,
              "#f0f921"
             ]
            ],
            "type": "surface"
           }
          ],
          "table": [
           {
            "cells": {
             "fill": {
              "color": "#EBF0F8"
             },
             "line": {
              "color": "white"
             }
            },
            "header": {
             "fill": {
              "color": "#C8D4E3"
             },
             "line": {
              "color": "white"
             }
            },
            "type": "table"
           }
          ]
         },
         "layout": {
          "annotationdefaults": {
           "arrowcolor": "#2a3f5f",
           "arrowhead": 0,
           "arrowwidth": 1
          },
          "autotypenumbers": "strict",
          "coloraxis": {
           "colorbar": {
            "outlinewidth": 0,
            "ticks": ""
           }
          },
          "colorscale": {
           "diverging": [
            [
             0,
             "#8e0152"
            ],
            [
             0.1,
             "#c51b7d"
            ],
            [
             0.2,
             "#de77ae"
            ],
            [
             0.3,
             "#f1b6da"
            ],
            [
             0.4,
             "#fde0ef"
            ],
            [
             0.5,
             "#f7f7f7"
            ],
            [
             0.6,
             "#e6f5d0"
            ],
            [
             0.7,
             "#b8e186"
            ],
            [
             0.8,
             "#7fbc41"
            ],
            [
             0.9,
             "#4d9221"
            ],
            [
             1,
             "#276419"
            ]
           ],
           "sequential": [
            [
             0,
             "#0d0887"
            ],
            [
             0.1111111111111111,
             "#46039f"
            ],
            [
             0.2222222222222222,
             "#7201a8"
            ],
            [
             0.3333333333333333,
             "#9c179e"
            ],
            [
             0.4444444444444444,
             "#bd3786"
            ],
            [
             0.5555555555555556,
             "#d8576b"
            ],
            [
             0.6666666666666666,
             "#ed7953"
            ],
            [
             0.7777777777777778,
             "#fb9f3a"
            ],
            [
             0.8888888888888888,
             "#fdca26"
            ],
            [
             1,
             "#f0f921"
            ]
           ],
           "sequentialminus": [
            [
             0,
             "#0d0887"
            ],
            [
             0.1111111111111111,
             "#46039f"
            ],
            [
             0.2222222222222222,
             "#7201a8"
            ],
            [
             0.3333333333333333,
             "#9c179e"
            ],
            [
             0.4444444444444444,
             "#bd3786"
            ],
            [
             0.5555555555555556,
             "#d8576b"
            ],
            [
             0.6666666666666666,
             "#ed7953"
            ],
            [
             0.7777777777777778,
             "#fb9f3a"
            ],
            [
             0.8888888888888888,
             "#fdca26"
            ],
            [
             1,
             "#f0f921"
            ]
           ]
          },
          "colorway": [
           "#636efa",
           "#EF553B",
           "#00cc96",
           "#ab63fa",
           "#FFA15A",
           "#19d3f3",
           "#FF6692",
           "#B6E880",
           "#FF97FF",
           "#FECB52"
          ],
          "font": {
           "color": "#2a3f5f"
          },
          "geo": {
           "bgcolor": "white",
           "lakecolor": "white",
           "landcolor": "#E5ECF6",
           "showlakes": true,
           "showland": true,
           "subunitcolor": "white"
          },
          "hoverlabel": {
           "align": "left"
          },
          "hovermode": "closest",
          "mapbox": {
           "style": "light"
          },
          "paper_bgcolor": "white",
          "plot_bgcolor": "#E5ECF6",
          "polar": {
           "angularaxis": {
            "gridcolor": "white",
            "linecolor": "white",
            "ticks": ""
           },
           "bgcolor": "#E5ECF6",
           "radialaxis": {
            "gridcolor": "white",
            "linecolor": "white",
            "ticks": ""
           }
          },
          "scene": {
           "xaxis": {
            "backgroundcolor": "#E5ECF6",
            "gridcolor": "white",
            "gridwidth": 2,
            "linecolor": "white",
            "showbackground": true,
            "ticks": "",
            "zerolinecolor": "white"
           },
           "yaxis": {
            "backgroundcolor": "#E5ECF6",
            "gridcolor": "white",
            "gridwidth": 2,
            "linecolor": "white",
            "showbackground": true,
            "ticks": "",
            "zerolinecolor": "white"
           },
           "zaxis": {
            "backgroundcolor": "#E5ECF6",
            "gridcolor": "white",
            "gridwidth": 2,
            "linecolor": "white",
            "showbackground": true,
            "ticks": "",
            "zerolinecolor": "white"
           }
          },
          "shapedefaults": {
           "line": {
            "color": "#2a3f5f"
           }
          },
          "ternary": {
           "aaxis": {
            "gridcolor": "white",
            "linecolor": "white",
            "ticks": ""
           },
           "baxis": {
            "gridcolor": "white",
            "linecolor": "white",
            "ticks": ""
           },
           "bgcolor": "#E5ECF6",
           "caxis": {
            "gridcolor": "white",
            "linecolor": "white",
            "ticks": ""
           }
          },
          "title": {
           "x": 0.05
          },
          "xaxis": {
           "automargin": true,
           "gridcolor": "white",
           "linecolor": "white",
           "ticks": "",
           "title": {
            "standoff": 15
           },
           "zerolinecolor": "white",
           "zerolinewidth": 2
          },
          "yaxis": {
           "automargin": true,
           "gridcolor": "white",
           "linecolor": "white",
           "ticks": "",
           "title": {
            "standoff": 15
           },
           "zerolinecolor": "white",
           "zerolinewidth": 2
          }
         }
        },
        "xaxis": {
         "anchor": "y",
         "domain": [
          0,
          1
         ],
         "title": {
          "text": "price_paid"
         }
        },
        "yaxis": {
         "anchor": "x",
         "domain": [
          0,
          1
         ],
         "title": {
          "text": "country"
         }
        }
       }
      }
     },
     "metadata": {},
     "output_type": "display_data"
    }
   ],
   "source": [
    "fig = px.scatter(copy, x='price_paid', y='country')\n",
    "fig.show()"
   ]
  },
  {
   "cell_type": "code",
   "execution_count": 62,
   "metadata": {},
   "outputs": [],
   "source": [
    "# Exporter le fichier le csv\n",
    "copy.to_csv('copy.csv')"
   ]
  }
 ],
 "metadata": {
  "kernelspec": {
   "display_name": "myenv",
   "language": "python",
   "name": "python3"
  },
  "language_info": {
   "codemirror_mode": {
    "name": "ipython",
    "version": 3
   },
   "file_extension": ".py",
   "mimetype": "text/x-python",
   "name": "python",
   "nbconvert_exporter": "python",
   "pygments_lexer": "ipython3",
   "version": "3.13.2"
  }
 },
 "nbformat": 4,
 "nbformat_minor": 2
}
